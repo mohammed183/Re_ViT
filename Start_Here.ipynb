{
 "cells": [
  {
   "cell_type": "markdown",
   "id": "53fea694-b8a7-400b-a5ba-34046e1118d1",
   "metadata": {},
   "source": [
    "## Hello there! 🤗\n",
    "\n",
    "This notebook is a guide to navigate all the other notebooks. Click on the notebook link below to navigate through notebooks. Clicking the links will open Colab or Jupyter notebooks depending on what you are using."
   ]
  },
  {
   "cell_type": "markdown",
   "id": "66f8eeda-f227-46f1-af1a-8c30a40d152e",
   "metadata": {},
   "source": [
    "Now use this order to go throught the notebooks:\n",
    "\n",
    "-   📢 [01-Introduction 📖](notebooks/01-Introduction.ipynb)\n",
    "\n",
    "\n",
    "-   📝 [02-Primary Claim 📖](notebooks/02-Claims.ipynb)\n",
    "\n",
    "\n",
    "-   🧪 [03-Experiments 📖](notebooks/03-Experiments.ipynb)\n",
    "\n",
    "    -    🔬 [03.1-ResNet 📖](notebooks/03.1-ResNet.ipynb) \n",
    "    \n",
    "    -    🤖 [03.2-ViT 📖](notebooks/03.2-ViT.ipynb)\n",
    "    \n",
    "-   🧬 [04-More On CNNs 📖](notebooks/04-More_on_CNNs.ipynb)\n",
    "\n",
    "-   🔎 [05-Going Further 📖](notebooks/05-Going_Further.ipynb)"
   ]
  }
 ],
 "metadata": {
  "kernelspec": {
   "display_name": "Python 3 (ipykernel)",
   "language": "python",
   "name": "python3"
  },
  "language_info": {
   "codemirror_mode": {
    "name": "ipython",
    "version": 3
   },
   "file_extension": ".py",
   "mimetype": "text/x-python",
   "name": "python",
   "nbconvert_exporter": "python",
   "pygments_lexer": "ipython3",
   "version": "3.11.4"
  }
 },
 "nbformat": 4,
 "nbformat_minor": 5
}
