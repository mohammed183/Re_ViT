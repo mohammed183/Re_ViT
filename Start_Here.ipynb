{
 "cells": [
  {
   "cell_type": "markdown",
   "id": "53fea694-b8a7-400b-a5ba-34046e1118d1",
   "metadata": {},
   "source": [
    "## Hello there! 🤗\n",
    "\n",
    "This notebook is a guide to navigate all the other notebooks. If you want to run them on colab, use the open in colab option. If you want to run them on jupyter, use the open link option."
   ]
  },
  {
   "cell_type": "markdown",
   "id": "66f8eeda-f227-46f1-af1a-8c30a40d152e",
   "metadata": {},
   "source": [
    "First for chameleon users you should start by following the instructions in this notebook\n",
    "\n",
    "-   [Reservation notebook 📖](Reserve.ipynb)\n",
    "\n",
    "Then use this order to go throught the notebooks ( click on book to open in jupyter or open colab button to open in colab ):\n",
    "\n",
    "-   📢 [01-Introduction 📖](notebooks/01-Introduction.ipynb) <a target=\"_blank\" href=\"https://colab.research.google.com/github/mohammed183/re_vit/blob/main/notebooks/01-Introduction.ipynb\" style=\"display: inline-block; text-align: left;\"> <img src=\"https://colab.research.google.com/assets/colab-badge.svg\" alt=\"Open In Colab\"/> </a>\n",
    "\n",
    "\n",
    "-   📝 [02-Claims 📖](notebooks/02-Claims.ipynb) <a target=\"_blank\" href=\"https://colab.research.google.com/github/mohammed183/re_vit/blob/main/notebooks/02-Claims.ipynb\" style=\"display: inline-block; text-align: left;\"> <img src=\"https://colab.research.google.com/assets/colab-badge.svg\" alt=\"Open In Colab\"/> </a>\n",
    "\n",
    "\n",
    "-   🧪 [03-Experiments 📖](notebooks/03-Experiments.ipynb) <a target=\"_blank\" href=\"https://colab.research.google.com/github/mohammed183/re_vit/blob/main/notebooks/03-Experiments.ipynb\" style=\"display: inline-block; text-align: left;\"> <img src=\"https://colab.research.google.com/assets/colab-badge.svg\" alt=\"Open In Colab\"/> </a>\n",
    "\n",
    "    -    🔬 [03.1-ResNet 📖](notebooks/03.1-ResNet.ipynb) <a target=\"_blank\" href=\"https://colab.research.google.com/github/mohammed183/re_vit/blob/main/notebooks/03.1-ResNet.ipynb\" style=\"display: inline-block; text-align: left;\"> <img src=\"https://colab.research.google.com/assets/colab-badge.svg\" alt=\"Open In Colab\"/> </a>\n",
    "    \n",
    "    -    🤖 [03.2-ViT 📖](notebooks/03.2-ViT.ipynb) <a target=\"_blank\" href=\"https://colab.research.google.com/github/mohammed183/re_vit/blob/main/notebooks/03.2-ViT.ipynb\" style=\"display: inline-block; text-align: left;\"> <img src=\"https://colab.research.google.com/assets/colab-badge.svg\" alt=\"Open In Colab\"/> </a>\n",
    "    \n",
    "    -   🧬 [03.3-ViT JAX 📖](notebooks/03.3-ViT_JAX.ipynb) <a target=\"_blank\" href=\"https://colab.research.google.com/github/mohammed183/re_vit/blob/main/notebooks/03.3-ViT_JAX.ipynb\" style=\"display: inline-block; text-align: left;\"> <img src=\"https://colab.research.google.com/assets/colab-badge.svg\" alt=\"Open In Colab\"/> </a>"
   ]
  }
 ],
 "metadata": {
  "kernelspec": {
   "display_name": "Python 3",
   "language": "python",
   "name": "python3"
  },
  "language_info": {
   "codemirror_mode": {
    "name": "ipython",
    "version": 3
   },
   "file_extension": ".py",
   "mimetype": "text/x-python",
   "name": "python",
   "nbconvert_exporter": "python",
   "pygments_lexer": "ipython3",
   "version": "3.10.4"
  }
 },
 "nbformat": 4,
 "nbformat_minor": 5
}
