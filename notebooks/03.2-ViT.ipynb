{
 "cells": [
  {
   "cell_type": "markdown",
   "metadata": {},
   "source": [
    "## Fine tuning the Vision Transformer\n",
    "\n",
    "In this notebook we use the pretrained ViT-L/16 model on the ImageNet-21k dataset which contains about 14 million images. The model will be finetuned on different datasets which are used for image classification tasks and then compared the performance to the baseline model.\n",
    "\n",
    "We will use the pretrained weights on hugging face which are the same weights provided by the authors but translated to be used in Pytorch. The next few cells show the functions used for finetuning the **ViT-L/16** model on different datasets.\n",
    "\n",
    "------------------------------------------------------------------------"
   ],
   "id": "86336833-caaa-4c7a-8374-de16bb362f74"
  },
  {
   "cell_type": "markdown",
   "metadata": {},
   "source": [
    "We start by importing the required modules."
   ],
   "id": "6779906f-291b-4725-8b42-aa82fbb98fb5"
  },
  {
   "cell_type": "code",
   "execution_count": null,
   "metadata": {},
   "outputs": [],
   "source": [
    "import os\n",
    "import json\n",
    "import time\n",
    "import torch\n",
    "import numpy as np\n",
    "import matplotlib.pyplot as plt\n",
    "from transformers import ViTForImageClassification\n",
    "from torchvision import transforms, datasets, models"
   ],
   "id": "e40c2deb-255e-4777-ae03-c4c9f79d4a0d"
  },
  {
   "cell_type": "markdown",
   "metadata": {},
   "source": [
    "------------------------------------------------------------------------\n",
    "\n",
    "Similar to what we did with the **ResNet** model, we create a dataloader that loads the same five datasets. The difference between the two functions is the size of the images in the dataloader as each model tolerates different input sizes for the images."
   ],
   "id": "188b11fe-2a0f-4b0f-b39e-996750ef6d14"
  },
  {
   "cell_type": "code",
   "execution_count": null,
   "metadata": {},
   "outputs": [],
   "source": [
    "# Create data loaders for transformer\n",
    "def get_vit_loaders(dataset=\"imagenet\", batch_size=64):\n",
    "    \"\"\"\n",
    "    This loads the whole dataset into memory and returns train and test data to\n",
    "    be used by the Vision Transformer\n",
    "    @param dataset (string): dataset name to load\n",
    "    @param batch_size (int): batch size for training and testing\n",
    "\n",
    "    @returns dict() with train and test data loaders with keys `train_loader`, `test_loader`\n",
    "    \"\"\"\n",
    "    # Normalization using channel means\n",
    "    normalize_transform = transforms.Normalize((0.5, 0.5, 0.5), (0.5, 0.5, 0.5))\n",
    "\n",
    "    # Creating transform function\n",
    "    train_transform = transforms.Compose([transforms.Resize((224,224)), transforms.ToTensor(), normalize_transform])\n",
    "\n",
    "    # Test transformation function\n",
    "    test_transform = transforms.Compose([transforms.Resize((224,224)), transforms.ToTensor(), normalize_transform])\n",
    "\n",
    "    # Load the dataset from torchvision datasets\n",
    "    if dataset == \"imagenet\":\n",
    "        # Load ImageNet\n",
    "        original_train_dataset = None\n",
    "        train_loader = None\n",
    "        test_transform = transforms.Compose([transforms.Resize((384,384)), transforms.ToTensor(), normalize_transform])\n",
    "        original_test_dataset = datasets.ImageFolder(root=os.path.join('data', 'imagenet', 'val'), transform=test_transform)\n",
    "\n",
    "    elif dataset == \"cifar10\":\n",
    "        # Load CIFAR-10\n",
    "        original_train_dataset = datasets.CIFAR10(root=os.path.join('data', 'cifar10_data'),\n",
    "                                             train=True, transform=train_transform, download=True)\n",
    "        original_test_dataset = datasets.CIFAR10(root=os.path.join('data', 'cifar10_data'),\n",
    "                                             train=False, transform=test_transform, download=True)\n",
    "    elif dataset == \"cifar100\":\n",
    "        # Load CIFAR-100\n",
    "        original_train_dataset = datasets.CIFAR100(root=os.path.join('data', 'cifar100_data'),\n",
    "                                             train=True, transform=train_transform, download=True)\n",
    "        original_test_dataset = datasets.CIFAR100(root=os.path.join('data', 'cifar100_data'),\n",
    "                                             train=False, transform=test_transform, download=True)\n",
    "    elif dataset == \"oxford_pets\":\n",
    "        # Load Oxford-IIIT Pets\n",
    "        original_train_dataset = datasets.OxfordIIITPet(root=os.path.join('data', 'oxford_iiit_pets_data'),\n",
    "                                             split='trainval', transform=train_transform, download=True)\n",
    "        original_test_dataset = datasets.OxfordIIITPet(root=os.path.join('data', 'oxford_iiit_pets_data'),\n",
    "                                             split='test', transform=test_transform, download=True)\n",
    "    elif dataset == \"flowers_102\":\n",
    "        # Load Oxford Flowers-102\n",
    "        original_train_dataset = datasets.Flowers102(root=os.path.join('data', 'oxford_flowers_102_data'),\n",
    "                                             split='train', transform=train_transform, download=True)\n",
    "        original_test_dataset = datasets.Flowers102(root=os.path.join('data', 'oxford_flowers_102_data'),\n",
    "                                             split='test', transform=test_transform, download=True)\n",
    "    else:\n",
    "        # Raise an error if the dataset is not valid\n",
    "        raise ValueError(\"Invalid dataset name. Please choose one of the following: imagenet, cifar10, cifar100, oxford_pets, flowers_102\")\n",
    "\n",
    "    # Creating data loaders\n",
    "    loader_args = {\n",
    "        \"batch_size\": batch_size,\n",
    "    }\n",
    "\n",
    "    if original_train_dataset is not None:\n",
    "        train_loader = torch.utils.data.DataLoader(\n",
    "            dataset=original_train_dataset,\n",
    "            shuffle=True,\n",
    "            **loader_args)\n",
    "\n",
    "    test_loader = torch.utils.data.DataLoader(\n",
    "        dataset=original_test_dataset,\n",
    "        shuffle=True,\n",
    "        **loader_args)\n",
    "\n",
    "    return {\"train_loader\": train_loader,\n",
    "            \"test_loader\": test_loader}"
   ],
   "id": "d75964f3-5041-4b09-b7d0-2d15a1b001db"
  },
  {
   "cell_type": "markdown",
   "metadata": {},
   "source": [
    "------------------------------------------------------------------------\n",
    "\n",
    "-   `get_accuracy`: This function takes the model predictions and the true labels as inputs and returns the accuracy as a float value.\n",
    "-   `evaluate_on_test`: This function takes the model, the loss criterion, the test dataloader, and the device as inputs and returns the test accuracy and loss as float values."
   ],
   "id": "89b0b4b1-1839-4a12-bf65-cae289a468f7"
  },
  {
   "cell_type": "code",
   "execution_count": null,
   "metadata": {},
   "outputs": [],
   "source": [
    "# Function takes predictions and true values to return accuracies\n",
    "def get_accuracy(logit, true_y):\n",
    "    pred_y = torch.argmax(logit, dim=1)\n",
    "    return (pred_y == true_y).float().mean()\n",
    "\n",
    "# This Function is used to evaluate the model\n",
    "def evaluate_on_test(model, test_loader, device):\n",
    "    # Evaluate the model on all the test batches\n",
    "    accuracies = []\n",
    "    model.eval()\n",
    "    for batch_idx, (data_x, data_y) in enumerate(test_loader):\n",
    "        data_x = data_x.to(device)\n",
    "        data_y = data_y.to(device)\n",
    "\n",
    "        model_y = model(data_x)\n",
    "        batch_accuracy = get_accuracy(model_y.logits, data_y)\n",
    "\n",
    "        accuracies.append(batch_accuracy.item())\n",
    "\n",
    "        if batch_idx%1000 == 0:\n",
    "            print(f\"Mean accuracy at batch: {batch_idx} is {np.mean(accuracies) * 100}\")\n",
    "\n",
    "    test_accuracy = np.mean(accuracies) * 100\n",
    "    print(f\"Test accuracy: {test_accuracy}\")\n",
    "    return test_accuracy"
   ],
   "id": "1089f6db-091c-49ce-979c-0ebc40a8bb6a"
  },
  {
   "cell_type": "markdown",
   "metadata": {},
   "source": [
    "------------------------------------------------------------------------\n",
    "\n",
    "The following function is used to train a vision transformer model on a given dataset and evaluate its performance on the train and test sets. The function takes the following arguments:\n",
    "\n",
    "-   `loaders`: a dictionary of PyTorch dataloaders for the train, test, and validation sets.\n",
    "-   `model_name`: a string to specify the name of the vision transformer model to use. The default is ‘google/vit-base-patch16-224-in21k’, which is a pre-trained model from Google that uses 16x16 patches and has 224 hidden units.\n",
    "-   lr: a float to specify the learning rate for the optimizer. The default is 0.003.\n",
    "-   `epochs`: an integer to specify the number of epochs to train the model. The default is 10.\n",
    "\n",
    "The function returns two lists of floats, which are the train and test accuracies for each epoch."
   ],
   "id": "2f843dc8-eb06-462d-8547-82fe1f557e21"
  },
  {
   "cell_type": "code",
   "execution_count": null,
   "metadata": {},
   "outputs": [],
   "source": [
    "# Function to train the model and return train and test accuracies\n",
    "def train_vit_model(loaders, title=\"\", model_name='google/vit-large-patch16-224-in21k',\n",
    "                         lr=0.001, epochs=10, random_seed=42, save=False):\n",
    "\n",
    "    # Create experiment directory\n",
    "    experiment_dir = os.path.join('experiments', title)\n",
    "\n",
    "    # make experiment directory\n",
    "    os.makedirs(experiment_dir, exist_ok=True)\n",
    "\n",
    "    # Set the seed\n",
    "    torch.manual_seed(random_seed)\n",
    "    np.random.seed(random_seed)\n",
    "\n",
    "    # Check if GPU is available\n",
    "    if torch.cuda.is_available():\n",
    "        device = torch.device('cuda:0')\n",
    "        print(\"CUDA Recognized\")\n",
    "    else:\n",
    "        device = torch.device('cpu')\n",
    "\n",
    "    # Get num_classes\n",
    "    num_classes = len(loaders[\"train_loader\"].dataset.classes)\n",
    "\n",
    "    # Load the pre-trained model\n",
    "    model = ViTForImageClassification.from_pretrained(model_name, num_labels=num_classes)\n",
    "    # Move the model to the device\n",
    "    model = model.to(device)\n",
    "\n",
    "    # Create the optimizer\n",
    "    optimizer = torch.optim.SGD(model.parameters(), lr=lr, momentum=0.9)\n",
    "\n",
    "    # Get batch size\n",
    "    batch_size = loaders[\"train_loader\"].batch_size\n",
    "\n",
    "    # Create the loss function\n",
    "    criterion = torch.nn.CrossEntropyLoss()\n",
    "\n",
    "    # Arrays to hold accuracies\n",
    "    test_acc = [0]\n",
    "    train_acc = [0]\n",
    "    # Iterate over the number of epochs\n",
    "    for epoch in range(1, epochs + 1):\n",
    "        model.to(device);\n",
    "        model.train()\n",
    "        print(f\"Epoch {epoch}\")\n",
    "        accuracies = []\n",
    "        losses = []\n",
    "\n",
    "        # Calculate loss and gradients for models on every training batch\n",
    "        for batch_idx, (data_x, data_y) in enumerate(loaders[\"train_loader\"]):\n",
    "            data_x = data_x.to(device)\n",
    "            data_y = data_y.to(device)\n",
    "\n",
    "            optimizer.zero_grad()\n",
    "            #model_y = model.classifier(model(data_x).pooler_output)\n",
    "            model_y = model(data_x).logits\n",
    "            loss = criterion(model_y, data_y)\n",
    "            batch_accuracy = get_accuracy(model_y, data_y)\n",
    "\n",
    "            # Perform back propagation\n",
    "            loss.backward()\n",
    "            optimizer.step()\n",
    "\n",
    "            accuracies.append(batch_accuracy.item())\n",
    "            losses.append(loss.item())\n",
    "\n",
    "        # Store training accuracy for plotting\n",
    "        train_loss = np.mean(losses)\n",
    "        train_accuracy = np.mean(accuracies)\n",
    "        train_acc.append(train_accuracy*100)\n",
    "\n",
    "        print(\"Train accuracy: {} Train loss: {}\".format(train_accuracy, train_loss))\n",
    "\n",
    "        # Evaluate the model on all the test batches\n",
    "        accuracies = []\n",
    "        losses = []\n",
    "        model.eval()\n",
    "        # Move the model to CPU\n",
    "        model.to(\"cpu\")\n",
    "        for batch_idx, (data_x, data_y) in enumerate(loaders[\"test_loader\"]):\n",
    "            # Move the data to CPU\n",
    "            data_x = data_x.to(\"cpu\")\n",
    "            data_y = data_y.to(\"cpu\")\n",
    "\n",
    "            model_y = model(data_x).logits\n",
    "            loss = criterion(model_y, data_y)\n",
    "            batch_accuracy = get_accuracy(model_y, data_y)\n",
    "\n",
    "            accuracies.append(batch_accuracy.item())\n",
    "            losses.append(loss.item())\n",
    "\n",
    "            # Break if there are more than 500 samples and not last iteration\n",
    "            if (batch_idx+1)*batch_size > 500 and epoch < epochs:\n",
    "                break\n",
    "\n",
    "        # Store test accuracy for plotting\n",
    "        test_loss = np.mean(losses)\n",
    "        test_accuracy = np.mean(accuracies)\n",
    "        test_acc.append(test_accuracy*100)\n",
    "        print(\"Test accuracy: {} Test loss: {}\".format(test_accuracy, test_loss))\n",
    "\n",
    "    # Save the final model\n",
    "    if save:\n",
    "        torch.save({\n",
    "            'model': model.state_dict()\n",
    "        }, os.path.join(experiment_dir, f'Vit-L/16{title}.pt'))\n",
    "\n",
    "    # return the accuracies\n",
    "    return train_acc, test_acc"
   ],
   "id": "6f96fb83-3644-4b50-ba87-728c10564d26"
  },
  {
   "cell_type": "markdown",
   "metadata": {},
   "source": [
    "------------------------------------------------------------------------\n",
    "\n",
    "The following function `plot_images_from_dataloader` takes a PyTorch dataloader as an input and plots 10 of the images from the first batch of data. The function also shows the labels of the images according to the classes attribute of the dataloader’s dataset"
   ],
   "id": "ff03f777-6d89-423e-a515-f96263bd42c5"
  },
  {
   "cell_type": "code",
   "execution_count": null,
   "metadata": {},
   "outputs": [],
   "source": [
    "# Define a function to plot 10 of the images\n",
    "def plot_images_from_dataloader(dataloader):\n",
    "    # Initialize empty tensors for images and labels\n",
    "    images = torch.empty(0)\n",
    "    labels = torch.empty(0, dtype=torch.long)\n",
    "\n",
    "    # Loop until the images and labels have at least 10 elements\n",
    "    while len(images) < 10:\n",
    "        # Get the next batch of images and labels from the dataloader\n",
    "        batch_images, batch_labels = next(iter(dataloader))\n",
    "        # Concatenate the batch images and labels to the existing tensors\n",
    "        images = torch.cat((images, batch_images), dim=0)\n",
    "        labels = torch.cat((labels, batch_labels), dim=0)\n",
    "    classes = dataloader.dataset.classes\n",
    "    # Create a figure with 2 rows and 5 columns\n",
    "    fig, axes = plt.subplots(2, 5, figsize=(10, 4))\n",
    "    for i, ax in enumerate(axes.flat):\n",
    "        image = images[i]\n",
    "        label = classes[labels[i]]\n",
    "        # Unnormalize the image\n",
    "        image = image / 2 + 0.5\n",
    "        image = image.numpy()\n",
    "        # Transpose the image\n",
    "        image = np.transpose(image, (1, 2, 0))\n",
    "        # Plot the image on the axis\n",
    "        ax.imshow(image)\n",
    "        # Set title as label\n",
    "        ax.set_title(label)\n",
    "        # Turn off the axis ticks\n",
    "        ax.set_xticks([])\n",
    "        ax.set_yticks([])\n",
    "    plt.show()\n",
    "\n",
    "# Define a function to calculate runtime per dataset\n",
    "def print_time(start_time, end_time):\n",
    "    # Calculate the difference in seconds\n",
    "    diff = end_time - start_time\n",
    "\n",
    "    # Convert the difference to hours, minutes, and seconds\n",
    "    hours, remainder = divmod(diff, 3600)\n",
    "    minutes, seconds = divmod(remainder, 60)\n",
    "\n",
    "    # Print the time in hours:minutes:seconds format\n",
    "    print(f\"Cell execution time: {int(hours)}:{int(minutes)}:{seconds}\")"
   ],
   "id": "76f7a2bc-3912-4a62-94c4-990eb5d1dd69"
  },
  {
   "cell_type": "markdown",
   "metadata": {},
   "source": [
    "### ImageNet\n",
    "\n",
    "The ImageNet dataset consists of **1000** object classes and contains **1,281,167** training images, **50,000** validation images and **100,000** test images. The images vary in resolution but it is common practice to train deep learning models on sub-sampled images of **256x256**pixels. This dataset is widely used for image classification and localization tasks and has been the benchmark for many state-of-the-art algorithms.\n",
    "\n",
    "------------------------------------------------------------------------"
   ],
   "id": "4d1a194f-961e-4322-85f4-fee12a8fb449"
  },
  {
   "cell_type": "markdown",
   "metadata": {},
   "source": [
    "The first thing we do is load the dataset into a PyTorch dataloader and plot a sample of 10 images to visualize it."
   ],
   "id": "cdffc7bd-ba69-413a-976d-12b76b442007"
  },
  {
   "cell_type": "code",
   "execution_count": null,
   "metadata": {},
   "outputs": [],
   "source": [
    "# Plot some images from the ImageNet dataset\n",
    "loader = get_vit_loaders(dataset=\"imagenet\", batch_size=4)\n",
    "plot_images_from_dataloader(loader[\"test_loader\"])"
   ],
   "id": "11021840-30da-4fad-91ca-c672f0fd7b16"
  },
  {
   "cell_type": "markdown",
   "metadata": {},
   "source": [
    "------------------------------------------------------------------------\n",
    "\n",
    "We load the model that was pretrained and fine-tuned on the **ImageNet-1k** which was published and evaluate the model directly."
   ],
   "id": "1189e288-ba25-4153-9444-4b593fcf91ac"
  },
  {
   "cell_type": "code",
   "execution_count": null,
   "metadata": {},
   "outputs": [],
   "source": [
    "# Check if GPU is available\n",
    "if torch.cuda.is_available():\n",
    "    device = torch.device('cuda:0')\n",
    "    print(\"CUDA Recognized\")\n",
    "else:\n",
    "    device = torch.device('cpu')\n",
    "\n",
    "# Get num_classes\n",
    "num_classes = len(loader[\"test_loader\"].dataset.classes)\n",
    "\n",
    "# Get the fine tuned model on the ImageNet dataset\n",
    "model = ViTForImageClassification.from_pretrained('google/vit-large-patch16-384')\n",
    "# Move the model to the device\n",
    "model = model.to(device)"
   ],
   "id": "b7c9ccd1-bb07-41bc-bac4-39cae471df38"
  },
  {
   "cell_type": "markdown",
   "metadata": {},
   "source": [
    "------------------------------------------------------------------------\n",
    "\n",
    "We evaluate the model on the train and test splits to get the train and test accuracies."
   ],
   "id": "d2783585-d51c-499b-af3f-0673f7732e42"
  },
  {
   "cell_type": "code",
   "execution_count": null,
   "metadata": {},
   "outputs": [],
   "source": [
    "start_time = time.time()\n",
    "# Print the Performance of the Ready fine tuned model\n",
    "test_acc_imagenet = evaluate_on_test(model, loader[\"test_loader\"], device)\n",
    "# Calculate and print cell execution time\n",
    "end_time = time.time()\n",
    "print_time(start_time, end_time)\n",
    "# delete model to free gpu\n",
    "del model\n",
    "# Release unused memory\n",
    "torch.cuda.empty_cache()"
   ],
   "id": "9977f344-ee65-4d9b-bfe6-cf305ed7fd58"
  },
  {
   "cell_type": "markdown",
   "metadata": {},
   "source": [
    "------------------------------------------------------------------------\n",
    "\n",
    "We save the results for the **ImageNet** dataset in a dictionary to use later for comparing results."
   ],
   "id": "ce6b40ce-4754-4a72-89c7-b4a8ffb4fb5e"
  },
  {
   "cell_type": "code",
   "execution_count": null,
   "metadata": {},
   "outputs": [],
   "source": [
    "# Create dictionary runs\n",
    "runs = {}\n",
    "\n",
    "# Check if the file exists\n",
    "if os.path.exists(\"experiments/vit.json\"):\n",
    "    # Open the file in read mode\n",
    "    with open(\"experiments/vit.json\", \"r\") as f:\n",
    "        # Load the data from the file to runs\n",
    "        runs = json.load(f)\n",
    "\n",
    "# Add the results to a dictionary\n",
    "runs[\"imagenet\"] = test_acc_imagenet                   "
   ],
   "id": "2a5630cd-e05c-4a4e-ae63-5af1c9a5ba0c"
  },
  {
   "cell_type": "code",
   "execution_count": null,
   "metadata": {},
   "outputs": [],
   "source": [
    "# Save the outputs in a json file\n",
    "with open(\"experiments/vit.json\", \"w\") as f:\n",
    "    json.dump(runs, f)"
   ],
   "id": "48628826-5f20-4307-89cc-c28d3da94659"
  },
  {
   "cell_type": "markdown",
   "metadata": {},
   "source": [
    "------------------------------------------------------------------------"
   ],
   "id": "9f06fbbe-1485-4fe6-8fb2-20c84694ad3e"
  },
  {
   "cell_type": "markdown",
   "metadata": {},
   "source": [
    "### CIFAR-10\n",
    "\n",
    "The CIFAR-10 dataset consists of **60,000 32x32** color images in **10** different classes. The 10 classes are airplane, automobile, bird, cat, deer, dog, frog, horse, ship, and truck. There are **6,000** images per class, with **5,000** for training and **1,000** for testing. It is a popular benchmark for image classification and deep learning research.\n",
    "\n",
    "------------------------------------------------------------------------"
   ],
   "id": "5a79ac0d-74e7-4dde-82b0-bc93c9069099"
  },
  {
   "cell_type": "markdown",
   "metadata": {},
   "source": [
    "First we load the dataset into dataloaders and plot a sample to visualize how the dataset looks like. **Note** that you should decide the `batch_size` that fits the GPU you are using."
   ],
   "id": "1b74fd5b-79bd-4f9f-99f5-316e84c8a35c"
  },
  {
   "cell_type": "code",
   "execution_count": null,
   "metadata": {},
   "outputs": [],
   "source": [
    "# Plot some images from the CIFAR-10 dataset\n",
    "loader = get_vit_loaders(dataset=\"cifar10\", batch_size=32)\n",
    "plot_images_from_dataloader(loader[\"train_loader\"])"
   ],
   "id": "b463e184-bbd2-46f3-a4c8-b28e02f4639e"
  },
  {
   "cell_type": "markdown",
   "metadata": {},
   "source": [
    "------------------------------------------------------------------------\n",
    "\n",
    "We fine tune the pretrained vision transformer on the **CIFAR-10** dataset to get the train and test accuracies."
   ],
   "id": "674ca6fe-2af4-4640-9614-4c2ed0a28622"
  },
  {
   "cell_type": "code",
   "execution_count": null,
   "metadata": {},
   "outputs": [],
   "source": [
    "start_time = time.time()\n",
    "# Fine tune the model on CIFAR-10\n",
    "train_acc_cifar10, test_acc_cifar10 = train_vit_model(loaders=loader)\n",
    "# Calculate and print cell execution time\n",
    "end_time = time.time()\n",
    "print_time(start_time, end_time)"
   ],
   "id": "10482bd9-cce4-48dd-bd02-d17939d5851b"
  },
  {
   "cell_type": "markdown",
   "metadata": {},
   "source": [
    "------------------------------------------------------------------------\n",
    "\n",
    "We save the obtained results to use it later for the creating the results table."
   ],
   "id": "2f9d75dc-8791-4bb1-bbf1-ef6fb594677a"
  },
  {
   "cell_type": "code",
   "execution_count": null,
   "metadata": {},
   "outputs": [],
   "source": [
    "# Create dictionary runs\n",
    "runs = {}\n",
    "\n",
    "# Check if the file exists\n",
    "if os.path.exists(\"experiments/vit.json\"):\n",
    "    # Open the file in read mode\n",
    "    with open(\"experiments/vit.json\", \"r\") as f:\n",
    "        # Load the data from the file to runs\n",
    "        runs = json.load(f)\n",
    "\n",
    "# Add the results to a dictionary\n",
    "runs[\"cifar10\"] = test_acc_cifar10[-1]"
   ],
   "id": "6cc48967-3647-41a3-9837-682114de11f3"
  },
  {
   "cell_type": "code",
   "execution_count": null,
   "metadata": {},
   "outputs": [],
   "source": [
    "# Save the outputs in a json file\n",
    "with open(\"experiments/vit.json\", \"w\") as f:\n",
    "    json.dump(runs, f)"
   ],
   "id": "18a0ee3e-1e54-44f9-8bf5-95b92ff27593"
  },
  {
   "cell_type": "markdown",
   "metadata": {},
   "source": [
    "------------------------------------------------------------------------"
   ],
   "id": "29ed4fcd-3990-4c30-9971-3380fb58f495"
  },
  {
   "cell_type": "markdown",
   "metadata": {},
   "source": [
    "### CIFAR-100\n",
    "\n",
    "The CIFAR-100 dataset consists of **60,000 32x32** color images in **100** different classes. The 100 classes are grouped into 20 superclasses, such as aquatic mammals, flowers, insects, vehicles, etc. There are **600** images per class, with **500** for training and **100** for testing. It is also a commonly benchmark for image classification and deep learning research.\n",
    "\n",
    "------------------------------------------------------------------------"
   ],
   "id": "aff469f4-fb57-438f-b656-2a230f510830"
  },
  {
   "cell_type": "markdown",
   "metadata": {},
   "source": [
    "We load the dataset into a PyTorch dataloader and plot the first 10 images from the train loader. **Note** that we need to make sure that the batch size is greater than or equal 10 to prevent any errors during plotting."
   ],
   "id": "9339197e-d462-43e1-8be2-060af39ae018"
  },
  {
   "cell_type": "code",
   "execution_count": null,
   "metadata": {},
   "outputs": [],
   "source": [
    "# Plot some images from the CIFAR-100 dataset\n",
    "loader = get_vit_loaders(dataset=\"cifar100\", batch_size=32)\n",
    "plot_images_from_dataloader(loader[\"train_loader\"])"
   ],
   "id": "989456df-2463-4950-8953-dad5eff1b764"
  },
  {
   "cell_type": "markdown",
   "metadata": {},
   "source": [
    "------------------------------------------------------------------------\n",
    "\n",
    "Now we are ready to fine tune the model on the **CIFAR100** dataset."
   ],
   "id": "4194986b-e495-42ec-9238-e6d621d869fb"
  },
  {
   "cell_type": "code",
   "execution_count": null,
   "metadata": {},
   "outputs": [],
   "source": [
    "start_time = time.time()\n",
    "# Fine tune the model on CIFAR-100\n",
    "train_acc_cifar100, test_acc_cifar100 = train_vit_model(loaders=loader)\n",
    "# Calculate and print cell execution time\n",
    "end_time = time.time()\n",
    "print_time(start_time, end_time)"
   ],
   "id": "0b3772f7-4751-40f2-9963-83f1bc1c56db"
  },
  {
   "cell_type": "markdown",
   "metadata": {},
   "source": [
    "------------------------------------------------------------------------\n",
    "\n",
    "We save the results in `runs` using the key `cifar100`."
   ],
   "id": "f5794ff8-fad5-41bd-a9a4-17f38d0bcd18"
  },
  {
   "cell_type": "code",
   "execution_count": null,
   "metadata": {},
   "outputs": [],
   "source": [
    "# Create dictionary runs\n",
    "runs = {}\n",
    "\n",
    "# Check if the file exists\n",
    "if os.path.exists(\"experiments/vit.json\"):\n",
    "    # Open the file in read mode\n",
    "    with open(\"experiments/vit.json\", \"r\") as f:\n",
    "        # Load the data from the file to runs\n",
    "        runs = json.load(f)\n",
    "\n",
    "# Add the results to a dictionary\n",
    "runs[\"cifar100\"] = test_acc_cifar100[-1]"
   ],
   "id": "ca2e33b4-4c44-4fbf-a5f3-41de6a5f2e5b"
  },
  {
   "cell_type": "code",
   "execution_count": null,
   "metadata": {},
   "outputs": [],
   "source": [
    "# Save the outputs in a json file\n",
    "with open(\"experiments/vit.json\", \"w\") as f:\n",
    "    json.dump(runs, f)"
   ],
   "id": "2aa4d06b-d396-4b82-8741-474afbba2de7"
  },
  {
   "cell_type": "markdown",
   "metadata": {},
   "source": [
    "------------------------------------------------------------------------"
   ],
   "id": "46df68c9-26f3-47ea-b4f8-9c30f10034b4"
  },
  {
   "cell_type": "markdown",
   "metadata": {},
   "source": [
    "### Oxford-IIIT Pets\n",
    "\n",
    "The Oxford-IIIT Pets is a **37** category pet dataset with roughly **200** images for each class created by the Visual Geometry Group at Oxford. The images have large variations in scale, pose and lighting. All images have an associated ground truth annotation of breed, head ROI (region of interest), and pixel level trimap segmentation. The dataset is useful for fine-grained image classification and segmentation tasks.\n",
    "\n",
    "------------------------------------------------------------------------"
   ],
   "id": "b9f7aaec-0f4b-4215-b418-5c0523033ce5"
  },
  {
   "cell_type": "markdown",
   "metadata": {},
   "source": [
    "We start by loading the dataset and plot a random sample of 10 images from the train loader."
   ],
   "id": "2db35163-5b73-42c7-813f-b33c6fcebc36"
  },
  {
   "cell_type": "code",
   "execution_count": null,
   "metadata": {},
   "outputs": [],
   "source": [
    "# Plot some images from the Oxford-IIIT Pets dataset\n",
    "loader = get_vit_loaders(dataset=\"oxford_pets\", batch_size=32)\n",
    "plot_images_from_dataloader(loader[\"train_loader\"])"
   ],
   "id": "8b9a0b65-715b-448f-afa3-3a92669482b2"
  },
  {
   "cell_type": "markdown",
   "metadata": {},
   "source": [
    "------------------------------------------------------------------------\n",
    "\n",
    "We fine-tune the vision transformer on the dataset for 10 epochs."
   ],
   "id": "a0153162-9bbd-492a-97d8-483e4413d682"
  },
  {
   "cell_type": "code",
   "execution_count": null,
   "metadata": {},
   "outputs": [],
   "source": [
    "start_time = time.time()\n",
    "# Fine tune the model on Oxford-IIIT Pets\n",
    "train_acc_oxford_pets, test_acc_oxford_pets = train_vit_model(loaders=loader)\n",
    "# Calculate and print cell execution time\n",
    "end_time = time.time()\n",
    "print_time(start_time, end_time)"
   ],
   "id": "6f97e3a2-a3c3-4073-8ab7-88027df47cdd"
  },
  {
   "cell_type": "markdown",
   "metadata": {},
   "source": [
    "------------------------------------------------------------------------\n",
    "\n",
    "We save the results in the `runs` dictionary as usual using the dataset name as key."
   ],
   "id": "1a493912-855f-47b8-92a9-e7a7773035ad"
  },
  {
   "cell_type": "code",
   "execution_count": null,
   "metadata": {},
   "outputs": [],
   "source": [
    "# Create dictionary runs\n",
    "runs = {}\n",
    "\n",
    "# Check if the file exists\n",
    "if os.path.exists(\"experiments/vit.json\"):\n",
    "    # Open the file in read mode\n",
    "    with open(\"experiments/vit.json\", \"r\") as f:\n",
    "        # Load the data from the file to runs\n",
    "        runs = json.load(f)\n",
    "\n",
    "# Add the results to a dictionary\n",
    "runs[\"oxford_pets\"] = test_acc_oxford_pets[-1]"
   ],
   "id": "30585498-aca6-4bf6-af08-13f1bfeb1ec6"
  },
  {
   "cell_type": "code",
   "execution_count": null,
   "metadata": {},
   "outputs": [],
   "source": [
    "# Save the outputs in a json file\n",
    "with open(\"experiments/vit.json\", \"w\") as f:\n",
    "    json.dump(runs, f)"
   ],
   "id": "94093663-81bf-42a7-9439-5092718fdb1f"
  },
  {
   "cell_type": "markdown",
   "metadata": {},
   "source": [
    "------------------------------------------------------------------------"
   ],
   "id": "44f9a403-2c26-40d9-8da9-5bd075f5882c"
  },
  {
   "cell_type": "markdown",
   "metadata": {},
   "source": [
    "### Oxford Flowers-102\n",
    "\n",
    "The Oxford Flowers-102 dataset consists of **102** flower categories commonly occurring in the United Kingdom. Each class consists of between **40 and 258** images. The images have large scale, pose and light variations. In addition, there are categories that have large variations within the category and several very similar categories. The dataset also provides image labels, segmentations, and distances based on shape and color features.\n",
    "\n",
    "------------------------------------------------------------------------"
   ],
   "id": "0b19dc2b-5b26-4b21-bd38-74ecb2e05946"
  },
  {
   "cell_type": "markdown",
   "metadata": {},
   "source": [
    "For this dataset we need to define the classes array as it is not defined in the PyTorch dataset. We load the dataset into PyTorch data loader and plot the first 10 images."
   ],
   "id": "e9ac66e6-9a07-456e-b596-041de891795e"
  },
  {
   "cell_type": "code",
   "execution_count": null,
   "metadata": {},
   "outputs": [],
   "source": [
    "# Plot some images from the Oxford Flowers-102 Pets dataset\n",
    "loader = get_vit_loaders(dataset=\"flowers_102\", batch_size=32)\n",
    "\n",
    "# We initialize the flowers names as they are not on Pytorch (used for plotting)\n",
    "flower_classes = ['pink primrose', 'hard-leaved pocket orchid', 'canterbury bells', 'sweet pea',\n",
    " 'english marigold', 'tiger lily', 'moon orchid', 'bird of paradise', 'monkshood', 'globe thistle',\n",
    " 'snapdragon', \"colt's foot\", 'king protea', 'spear thistle', 'yellow iris', 'globe-flower', 'purple coneflower',\n",
    " 'peruvian lily', 'balloon flower', 'giant white arum lily', 'fire lily', 'pincushion flower', 'fritillary',\n",
    " 'red ginger', 'grape hyacinth', 'corn poppy', 'prince of wales feathers', 'stemless gentian', 'artichoke',\n",
    " 'sweet william', 'carnation', 'garden phlox', 'love in the mist', 'mexican aster', 'alpine sea holly',\n",
    " 'ruby-lipped cattleya', 'cape flower', 'great masterwort', 'siam tulip', 'lenten rose', 'barbeton daisy',\n",
    " 'daffodil', 'sword lily', 'poinsettia', 'bolero deep blue', 'wallflower', 'marigold', 'buttercup', 'oxeye daisy',\n",
    " 'common dandelion', 'petunia', 'wild pansy', 'primula', 'sunflower', 'pelargonium', 'bishop of llandaff', 'gaura',\n",
    " 'geranium', 'orange dahlia', 'pink-yellow dahlia', 'cautleya spicata', 'japanese anemone', 'black-eyed susan',\n",
    " 'silverbush', 'californian poppy', 'osteospermum', 'spring crocus', 'bearded iris', 'windflower', 'tree poppy',\n",
    " 'gazania', 'azalea', 'water lily', 'rose', 'thorn apple', 'morning glory', 'passion flower', 'lotus', 'toad lily',\n",
    " 'anthurium', 'frangipani', 'clematis', 'hibiscus', 'columbine', 'desert-rose', 'tree mallow', 'magnolia',\n",
    " 'cyclamen', 'watercress', 'canna lily', 'hippeastrum', 'bee balm', 'ball moss', 'foxglove', 'bougainvillea',\n",
    " 'camellia', 'mallow', 'mexican petunia', 'bromelia', 'blanket flower', 'trumpet creeper', 'blackberry lily']\n",
    "\n",
    "# Save the Class names in the dataset\n",
    "loader[\"train_loader\"].dataset.classes = flower_classes\n",
    "# Plot dataset\n",
    "plot_images_from_dataloader(loader[\"train_loader\"])"
   ],
   "id": "141d6d3f-eed0-4192-a03d-c42212eefcad"
  },
  {
   "cell_type": "markdown",
   "metadata": {},
   "source": [
    "------------------------------------------------------------------------\n",
    "\n",
    "We fine-tune the model using the `train_vit_model` function and using the `Flowers102` dataset loader as the input arguement."
   ],
   "id": "bca4a6bf-72fe-49b1-9652-589c9137bb13"
  },
  {
   "cell_type": "code",
   "execution_count": null,
   "metadata": {},
   "outputs": [],
   "source": [
    "start_time = time.time()\n",
    "# Fine tune the model on Oxford Flowers-102\n",
    "train_acc_oxford_flowers, test_acc_oxford_flowers = train_vit_model(loaders=loader, epochs=14)\n",
    "# Calculate and print cell execution time\n",
    "end_time = time.time()\n",
    "print_time(start_time, end_time)"
   ],
   "id": "cd208be1-5ce2-4681-8e21-1d58ab82cf27"
  },
  {
   "cell_type": "markdown",
   "metadata": {},
   "source": [
    "------------------------------------------------------------------------\n",
    "\n",
    "Now we save the fine-tuning results in the `runs` dictionary."
   ],
   "id": "66dccd14-6cab-4ac7-b1c4-9405bf208d41"
  },
  {
   "cell_type": "code",
   "execution_count": null,
   "metadata": {},
   "outputs": [],
   "source": [
    "# Create dictionary runs\n",
    "runs = {}\n",
    "\n",
    "# Check if the file exists\n",
    "if os.path.exists(\"experiments/vit.json\"):\n",
    "    # Open the file in read mode\n",
    "    with open(\"experiments/vit.json\", \"r\") as f:\n",
    "        # Load the data from the file to runs\n",
    "        runs = json.load(f)\n",
    "\n",
    "# Add the results to a dictionary\n",
    "runs[\"oxford_flowers\"] = test_acc_oxford_flowers[-1]"
   ],
   "id": "f0ac8c7d-0201-43db-be71-b4f12a623934"
  },
  {
   "cell_type": "code",
   "execution_count": null,
   "metadata": {},
   "outputs": [],
   "source": [
    "# Save the outputs in a json file\n",
    "with open(\"experiments/vit.json\", \"w\") as f:\n",
    "    json.dump(runs, f)"
   ],
   "id": "01aabee5-97dd-48ad-bf1b-bb4335bba627"
  },
  {
   "cell_type": "markdown",
   "metadata": {},
   "source": [
    "------------------------------------------------------------------------\n",
    "\n",
    "Now that we are done with both the ResNet and the ViT model, we can create the results table back at the Experiments notebook."
   ],
   "id": "d70124b6-5141-46c9-8349-316639b9e970"
  }
 ],
 "nbformat": 4,
 "nbformat_minor": 5,
 "metadata": {}
}
