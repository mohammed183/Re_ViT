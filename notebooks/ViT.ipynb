{
 "cells": [
  {
   "cell_type": "markdown",
   "id": "bd9c3174-08d8-4acc-ad47-20c778526eb0",
   "metadata": {},
   "source": [
    "## Fine tuning the Vision Transformer\n",
    "\n",
    "In this notebook we use the pretrained ViT-L/16 model on the ImageNet-21k dataset which contains about 14 million images. The model will be finetuned on different datasets which are used for image classification tasks and then compared the performance to the baseline model.\n",
    "\n",
    "We will use the pretrained weights on hugging face which are the same weights provided by the authors but translated to be used in Pytorch. The next few cells show the functions used for finetuning the **ViT-L/16** model on different datasets.\n",
    "\n",
    "------------------------------------------------------------------------"
   ]
  },
  {
   "cell_type": "markdown",
   "id": "b1d8599b-b78f-4571-be41-29ea0345ee26",
   "metadata": {},
   "source": [
    "We start by importing the required modules."
   ]
  },
  {
   "cell_type": "code",
   "execution_count": null,
   "id": "13d8215a-3213-4501-9452-306e1b67c7ea",
   "metadata": {},
   "outputs": [],
   "source": [
    "# install hugging face transformer <<< Move later to requirements >>>\n",
    "!pip install transformers"
   ]
  },
  {
   "cell_type": "code",
   "execution_count": null,
   "id": "c9e93f60-0736-4f0f-80a7-4f8e7c65e6c5",
   "metadata": {},
   "outputs": [],
   "source": [
    "import os\n",
    "import json \n",
    "import torch\n",
    "import numpy as np\n",
    "import matplotlib.pyplot as plt\n",
    "from transformers import ViTModel\n",
    "from torchvision import transforms, datasets, models"
   ]
  },
  {
   "cell_type": "markdown",
   "id": "af0089a7-7c73-42db-83de-a61bd5169ca0",
   "metadata": {},
   "source": [
    "------------------------------------------------------------------------\n",
    "\n",
    "Similar to what we did with the **ResNet** model, we create a dataloader that loads the same five datasets. The difference between the two functions is the size of the images in the dataloader as each model tolerates different input sizes for the images."
   ]
  },
  {
   "cell_type": "code",
   "execution_count": null,
   "id": "997a00ab-12ed-413e-8452-1c003f38e1e7",
   "metadata": {},
   "outputs": [],
   "source": [
    "# Create data loaders for transformer\n",
    "def get_vit_loaders(dataset=\"imagenet\", batch_size=64):\n",
    "    \"\"\"\n",
    "    This loads the whole dataset into memory and returns train and test data to\n",
    "    be used by the Vision Transformer\n",
    "    @param dataset (string): dataset name to load\n",
    "    @param batch_size (int): batch size for training and testing\n",
    "\n",
    "    @returns dict() with train and test data loaders with keys `train_loader`, `test_loader`\n",
    "    \"\"\"\n",
    "    # Normalization using channel means\n",
    "    normalize_transform = transforms.Normalize((0.5, 0.5, 0.5), (0.5, 0.5, 0.5))\n",
    "\n",
    "    # Creating transform function\n",
    "    train_transform = transforms.Compose([transforms.Resize((224,224)), transforms.ToTensor(), normalize_transform])\n",
    "\n",
    "    # Test transformation function\n",
    "    test_transform = transforms.Compose([transforms.Resize((224,224)), transforms.ToTensor(), normalize_transform])\n",
    "\n",
    "    # Load the dataset from torchvision datasets\n",
    "    if dataset == \"imagenet\":\n",
    "        # Load ImageNet\n",
    "        original_train_dataset = datasets.ImageNet(root=os.path.join('data', 'imagenet_data'),\n",
    "                                             split='train', transform=train_transform)\n",
    "        original_test_dataset = datasets.ImageNet(root=os.path.join('data', 'imagenet_data'),\n",
    "                                             split='val', transform=test_transform, download=True)\n",
    "    elif dataset == \"cifar10\":\n",
    "        # Load CIFAR-10\n",
    "        original_train_dataset = datasets.CIFAR10(root=os.path.join('data', 'cifar10_data'),\n",
    "                                             train=True, transform=train_transform, download=True)\n",
    "        original_test_dataset = datasets.CIFAR10(root=os.path.join('data', 'cifar10_data'),\n",
    "                                             train=False, transform=test_transform, download=True)\n",
    "    elif dataset == \"cifar100\":\n",
    "        # Load CIFAR-100\n",
    "        original_train_dataset = datasets.CIFAR100(root=os.path.join('data', 'cifar100_data'),\n",
    "                                             train=True, transform=train_transform, download=True)\n",
    "        original_test_dataset = datasets.CIFAR100(root=os.path.join('data', 'cifar100_data'),\n",
    "                                             train=False, transform=test_transform, download=True)\n",
    "    elif dataset == \"oxford_pets\":\n",
    "        # Load Oxford-IIIT Pets\n",
    "        original_train_dataset = datasets.OxfordIIITPet(root=os.path.join('data', 'oxford_iiit_pets_data'),\n",
    "                                             split='trainval', transform=train_transform, download=True)\n",
    "        original_test_dataset = datasets.OxfordIIITPet(root=os.path.join('data', 'oxford_iiit_pets_data'),\n",
    "                                             split='test', transform=test_transform, download=True)\n",
    "    elif dataset == \"flowers_102\":\n",
    "        # Load Oxford Flowers-102\n",
    "        original_train_dataset = datasets.Flowers102(root=os.path.join('data', 'oxford_flowers_102_data'),\n",
    "                                             split='train', transform=train_transform, download=True)\n",
    "        original_test_dataset = datasets.Flowers102(root=os.path.join('data', 'oxford_flowers_102_data'),\n",
    "                                             split='test', transform=test_transform, download=True)\n",
    "    else:\n",
    "        # Raise an error if the dataset is not valid\n",
    "        raise ValueError(\"Invalid dataset name. Please choose one of the following: imagenet, cifar10, cifar100, oxford_pets, flowers_102\")\n",
    "\n",
    "    # Creating data loaders\n",
    "    loader_args = {\n",
    "        \"batch_size\": batch_size,\n",
    "    }\n",
    "\n",
    "    train_loader = torch.utils.data.DataLoader(\n",
    "        dataset=original_train_dataset,\n",
    "        shuffle=True,\n",
    "        **loader_args)\n",
    "\n",
    "    test_loader = torch.utils.data.DataLoader(\n",
    "        dataset=original_test_dataset,\n",
    "        shuffle=False,\n",
    "        **loader_args)\n",
    "\n",
    "    return {\"train_loader\": train_loader,\n",
    "            \"test_loader\": test_loader}"
   ]
  },
  {
   "cell_type": "markdown",
   "id": "764fea6f-99e6-4ea6-a22d-fd3901eb26a5",
   "metadata": {},
   "source": [
    "------------------------------------------------------------------------\n",
    "\n",
    "-   `get_accuracy`: This function takes the model predictions and the true labels as inputs and returns the accuracy as a float value.\n",
    "-   `evaluate_on_test`: This function takes the model, the loss criterion, the test dataloader, and the device as inputs and returns the test accuracy and loss as float values."
   ]
  },
  {
   "cell_type": "code",
   "execution_count": null,
   "id": "46e18e71-97fe-4690-b427-8cd38f25c749",
   "metadata": {},
   "outputs": [],
   "source": [
    "# Function takes predictions and true values to return accuracies\n",
    "def get_accuracy(logit, true_y):\n",
    "    pred_y = torch.argmax(logit, dim=1)\n",
    "    return (pred_y == true_y).float().mean()\n",
    "\n",
    "# This Function is used to evaluate the model\n",
    "def evaluate_on_test(model, test_loader, device):\n",
    "    # Evaluate the model on all the test batches\n",
    "    accuracies = []\n",
    "    model.eval()\n",
    "    for batch_idx, (data_x, data_y) in enumerate(test_loader):\n",
    "        data_x = data_x.to(device)\n",
    "        data_y = data_y.to(device)\n",
    "\n",
    "\n",
    "        model_y = model.classifier(model(data_x).pooler_output)\n",
    "        batch_accuracy = get_accuracy(model_y, data_y)\n",
    "\n",
    "        accuracies.append(batch_accuracy.item())\n",
    "        losses.append(loss.item())\n",
    "\n",
    "    test_accuracy = np.mean(accuracies) * 100\n",
    "    return test_accuracy"
   ]
  },
  {
   "cell_type": "markdown",
   "id": "2aac288d-7788-4063-8998-03b99f852464",
   "metadata": {},
   "source": [
    "------------------------------------------------------------------------\n",
    "\n",
    "The following function is used to train a vision transformer model on a given dataset and evaluate its performance on the train and test sets. The function takes the following arguments:\n",
    "\n",
    "-   `loaders`: a dictionary of PyTorch dataloaders for the train, test, and validation sets.\n",
    "-   `model_name`: a string to specify the name of the vision transformer model to use. The default is ‘google/vit-base-patch16-224-in21k’, which is a pre-trained model from Google that uses 16x16 patches and has 224 hidden units.\n",
    "-   lr: a float to specify the learning rate for the optimizer. The default is 0.003.\n",
    "-   `epochs`: an integer to specify the number of epochs to train the model. The default is 10.\n",
    "\n",
    "The function returns two lists of floats, which are the train and test accuracies for each epoch."
   ]
  },
  {
   "cell_type": "code",
   "execution_count": null,
   "id": "622ba943-6a02-43f1-9ea1-041f50a3ce74",
   "metadata": {},
   "outputs": [],
   "source": [
    "# Function to train the model and return train and test accuracies\n",
    "def train_vit_model(loaders, title=\"\", model_name='google/vit-large-patch16-224-in21k',\n",
    "                         lr=0.003, epochs=10, random_seed=42, save=False):\n",
    "\n",
    "    # Create experiment directory \n",
    "    experiment_dir = os.path.join('experiments/exp1', title)\n",
    "\n",
    "    # make experiment directory\n",
    "    os.makedirs(experiment_dir, exist_ok=True)\n",
    "\n",
    "    # Set the seed\n",
    "    torch.manual_seed(random_seed)\n",
    "    np.random.seed(random_seed)\n",
    "\n",
    "    # Check if GPU is available\n",
    "    if torch.cuda.is_available():\n",
    "        device = torch.device('cuda:0')\n",
    "        print(\"CUDA Recognized\")\n",
    "    else:\n",
    "        device = torch.device('cpu')\n",
    "\n",
    "    # Get num_classes\n",
    "    num_classes = len(loaders[\"train_loader\"].dataset.classes)\n",
    "\n",
    "    # Load the pre-trained model\n",
    "    model = ViTModel.from_pretrained(model_name)\n",
    "    # Create a new linear layer with num_classes\n",
    "    new_classifier = torch.nn.Linear(model.config.hidden_size, num_classes)\n",
    "    # Assign it to the model.classifier attribute\n",
    "    model.classifier = new_classifier\n",
    "    # Move the model to the device\n",
    "    model = model.to(device)\n",
    "\n",
    "    # Create the optimizer\n",
    "    optimizer = torch.optim.SGD(model.parameters(), lr=lr, momentum=0.9)\n",
    "\n",
    "    # Create the loss function\n",
    "    criterion = torch.nn.CrossEntropyLoss()\n",
    "\n",
    "    # Arrays to hold accuracies\n",
    "    test_acc = [0]\n",
    "    train_acc = [0]\n",
    "\n",
    "    # Iterate over the number of epochs\n",
    "    for epoch in range(1, epochs + 1):\n",
    "        model.train()\n",
    "        print(f\"Epoch {epoch}\")\n",
    "        accuracies = []\n",
    "        losses = []\n",
    "\n",
    "        # Calculate loss and gradients for models on every training batch\n",
    "        for batch_idx, (data_x, data_y) in enumerate(loaders[\"train_loader\"]):\n",
    "            data_x = data_x.to(device)\n",
    "            data_y = data_y.to(device)\n",
    "\n",
    "            optimizer.zero_grad()\n",
    "            model_y = model.classifier(model(data_x).pooler_output)\n",
    "            loss = criterion(model_y, data_y)\n",
    "            batch_accuracy = get_accuracy(model_y, data_y)\n",
    "\n",
    "            # Perform back propagation\n",
    "            loss.backward()\n",
    "            optimizer.step()\n",
    "\n",
    "            accuracies.append(batch_accuracy.item())\n",
    "            losses.append(loss.item())\n",
    "\n",
    "        # Store training accuracy for plotting\n",
    "        train_loss = np.mean(losses)\n",
    "        train_accuracy = np.mean(accuracies)\n",
    "        train_acc.append(train_accuracy*100)\n",
    "\n",
    "        print(\"Train accuracy: {} Train loss: {}\".format(train_accuracy, train_loss))\n",
    "\n",
    "        # Evaluate the model on all the test batches\n",
    "        accuracies = []\n",
    "        losses = []\n",
    "        model.eval()\n",
    "        for batch_idx, (data_x, data_y) in enumerate(loaders[\"test_loader\"]):\n",
    "            data_x = data_x.to(device)\n",
    "            data_y = data_y.to(device)\n",
    "\n",
    "\n",
    "            model_y = model.classifier(model(data_x).pooler_output)\n",
    "            loss = criterion(model_y, data_y)\n",
    "            batch_accuracy = get_accuracy(model_y, data_y)\n",
    "\n",
    "            accuracies.append(batch_accuracy.item())\n",
    "            losses.append(loss.item())\n",
    "\n",
    "        # Store test accuracy for plotting\n",
    "        test_loss = np.mean(losses)\n",
    "        test_accuracy = np.mean(accuracies)\n",
    "        test_acc.append(test_accuracy*100)\n",
    "        print(\"Test accuracy: {} Test loss: {}\".format(test_accuracy, test_loss))\n",
    "\n",
    "    # Save the final model\n",
    "    if save:\n",
    "        torch.save({\n",
    "            'model': model.state_dict()\n",
    "        }, os.path.join(experiment_dir, f'Vit-L/16{title}.pt'))\n",
    "\n",
    "    # return the accuracies\n",
    "    return train_acc, test_acc"
   ]
  },
  {
   "cell_type": "markdown",
   "id": "f5808ba1-68fb-4b55-94bf-340981f47a7a",
   "metadata": {},
   "source": [
    "------------------------------------------------------------------------\n",
    "\n",
    "The following function `plot_images_from_dataloader` takes a PyTorch dataloader as an input and plots 10 of the images from the first batch of data. The function also shows the labels of the images according to the classes attribute of the dataloader’s dataset"
   ]
  },
  {
   "cell_type": "code",
   "execution_count": null,
   "id": "a04a3769-1920-425d-8c9f-a6203a29e754",
   "metadata": {},
   "outputs": [],
   "source": [
    "# Define a function to plot 10 of the images\n",
    "def plot_images_from_dataloader(dataloader):\n",
    "    # Get the first batch of images and labels from the dataloader\n",
    "    images, labels = next(iter(dataloader))\n",
    "    classes = dataloader.dataset.classes\n",
    "    # Create a figure with 2 rows and 5 columns\n",
    "    fig, axes = plt.subplots(2, 5, figsize=(10, 4))\n",
    "    for i, ax in enumerate(axes.flat):\n",
    "        image = images[i]\n",
    "        label = classes[labels[i]]\n",
    "        # Unnormalize the image\n",
    "        image = image / 2 + 0.5\n",
    "        image = image.numpy()\n",
    "        # Transpose the image\n",
    "        image = np.transpose(image, (1, 2, 0))\n",
    "        # Plot the image on the axis\n",
    "        ax.imshow(image)\n",
    "        # Set title as label\n",
    "        ax.set_title(label)\n",
    "        # Turn off the axis ticks\n",
    "        ax.set_xticks([])\n",
    "        ax.set_yticks([])\n",
    "    plt.show()"
   ]
  },
  {
   "cell_type": "markdown",
   "id": "ac73d9df-5a7d-411b-8357-161f2f7e545e",
   "metadata": {},
   "source": [
    "### ImageNet\n",
    "\n",
    "The ImageNet dataset consists of **1000** object classes and contains **1,281,167** training images, **50,000** validation images and **100,000** test images. The images vary in resolution but it is common practice to train deep learning models on sub-sampled images of **256x256**pixels. This dataset is widely used for image classification and localization tasks and has been the benchmark for many state-of-the-art algorithms.\n",
    "\n",
    "------------------------------------------------------------------------"
   ]
  },
  {
   "cell_type": "markdown",
   "id": "c0cf024d-99f7-48ee-b9b5-164dff24f549",
   "metadata": {},
   "source": [
    "The first thing we do is load the dataset into a PyTorch dataloader and plot a sample of 10 images to visualize it."
   ]
  },
  {
   "cell_type": "code",
   "execution_count": null,
   "id": "bfb279b7-c1ca-4f13-ad16-e4011ef61add",
   "metadata": {},
   "outputs": [],
   "source": [
    "# Plot some images from the ImageNet dataset\n",
    "loader = get_vit_loaders(dataset=\"imagenet\", batch_size=32)\n",
    "plot_images_from_dataloader(loader[\"test_loader\"])"
   ]
  },
  {
   "cell_type": "markdown",
   "id": "72a9ad4b-9a40-4de2-913b-5e2b0245c4f2",
   "metadata": {},
   "source": [
    "------------------------------------------------------------------------\n",
    "\n",
    "We load the model that was pretrained and fine-tuned on the **ImageNet-1k** which was published and evaluate the model directly."
   ]
  },
  {
   "cell_type": "code",
   "execution_count": null,
   "id": "72fd68db-e74c-465e-9d80-98954b052c68",
   "metadata": {},
   "outputs": [],
   "source": [
    "# Check if GPU is available\n",
    "if torch.cuda.is_available():\n",
    "    device = torch.device('cuda:0')\n",
    "    print(\"CUDA Recognized\")\n",
    "else:\n",
    "    device = torch.device('cpu')\n",
    "\n",
    "# Get num_classes\n",
    "num_classes = len(loader[\"train_loader\"].dataset.classes)\n",
    "\n",
    "# Get the fine tuned model on the ImageNet dataset\n",
    "model = ViTModel.from_pretrained('google/vit-large-patch16-224')\n",
    "# Move the model to the device\n",
    "model = model.to(device)"
   ]
  },
  {
   "cell_type": "markdown",
   "id": "51be9604-462f-45b0-a47b-c89e20751abd",
   "metadata": {},
   "source": [
    "------------------------------------------------------------------------\n",
    "\n",
    "We evaluate the model on the train and test splits to get the train and test accuracies."
   ]
  },
  {
   "cell_type": "code",
   "execution_count": null,
   "id": "1e762fd3-035c-4d4a-af66-348230a32824",
   "metadata": {},
   "outputs": [],
   "source": [
    "# Print the Performance of the Ready fine tuned model\n",
    "train_acc_imagenet = evaluate_on_test(model, loader[\"train_loader\"], device)\n",
    "test_acc_imagenet = evaluate_on_test(model, loader[\"test_loader\"], device)"
   ]
  },
  {
   "cell_type": "markdown",
   "id": "ac01df09-1391-4b7f-8728-bac5177de054",
   "metadata": {},
   "source": [
    "------------------------------------------------------------------------\n",
    "\n",
    "We save the results for the **ImageNet** dataset in a dictionary to use later for comparing results."
   ]
  },
  {
   "cell_type": "code",
   "execution_count": null,
   "id": "97843134-0fe8-425f-82f7-6f2af51c0db3",
   "metadata": {},
   "outputs": [],
   "source": [
    "# Create a dictionary to hold the results\n",
    "runs={}\n",
    "\n",
    "# Add the results to a dictionary\n",
    "runs[\"imagenet\"] = { 'training_accuracy' : train_acc_imagenet,\n",
    "                       'test_accuracy' : test_acc_imagenet,\n",
    "                     }"
   ]
  },
  {
   "cell_type": "code",
   "execution_count": null,
   "id": "b0afb938-6d1d-4cbf-a319-84f5ab4cd139",
   "metadata": {},
   "outputs": [],
   "source": [
    "# Save the outputs in a json file\n",
    "with open(\"experiments/exp1/vit.json\", \"w\") as f:\n",
    "    json.dump(runs, f)"
   ]
  },
  {
   "cell_type": "markdown",
   "id": "fffdaeaa-5c76-4b1a-b1aa-4282c0452905",
   "metadata": {},
   "source": [
    "------------------------------------------------------------------------"
   ]
  },
  {
   "cell_type": "markdown",
   "id": "57eaf7f4-fe7b-4b04-a458-1ba6339e0cbc",
   "metadata": {},
   "source": [
    "### CIFAR-10\n",
    "\n",
    "The CIFAR-10 dataset consists of **60,000 32x32** color images in **10** different classes. The 10 classes are airplane, automobile, bird, cat, deer, dog, frog, horse, ship, and truck. There are **6,000** images per class, with **5,000** for training and **1,000** for testing. It is a popular benchmark for image classification and deep learning research.\n",
    "\n",
    "------------------------------------------------------------------------"
   ]
  },
  {
   "cell_type": "markdown",
   "id": "28a61e15-5f5b-4bb4-b1ba-2de63e0ba2d6",
   "metadata": {},
   "source": [
    "First we load the dataset into dataloaders and plot a sample to visualize how the dataset looks like. **Note** that you should decide the `batch_size` that fits the GPU you are using."
   ]
  },
  {
   "cell_type": "code",
   "execution_count": null,
   "id": "73200c96-4a62-4275-97a4-b97a157c2539",
   "metadata": {},
   "outputs": [],
   "source": [
    "# Plot some images from the CIFAR-10 dataset\n",
    "loader = get_vit_loaders(dataset=\"cifar10\", batch_size=32)\n",
    "plot_images_from_dataloader(loader[\"train_loader\"])"
   ]
  },
  {
   "cell_type": "markdown",
   "id": "659d18d1-b497-4672-b4aa-a23aa26a701a",
   "metadata": {},
   "source": [
    "------------------------------------------------------------------------\n",
    "\n",
    "We fine tune the pretrained vision transformer on the **CIFAR-10** dataset to get the train and test accuracies."
   ]
  },
  {
   "cell_type": "code",
   "execution_count": null,
   "id": "93d00ddb-4e71-4305-b18d-0cbaecc65a16",
   "metadata": {},
   "outputs": [],
   "source": [
    "# Fine tune the model on imagenet\n",
    "train_acc_cifar10, test_acc_cifar10 = train_vit_model(loaders=loader)"
   ]
  },
  {
   "cell_type": "markdown",
   "id": "2001f527-1a2f-4f55-a9bd-0de82ad9fee8",
   "metadata": {},
   "source": [
    "------------------------------------------------------------------------\n",
    "\n",
    "We save the obtained results to use it later for the creating the results table."
   ]
  },
  {
   "cell_type": "code",
   "execution_count": null,
   "id": "25a7953a-7329-44b9-9732-2a1865443b3a",
   "metadata": {},
   "outputs": [],
   "source": [
    "# Add the results to a dictionary\n",
    "runs[\"cifar10\"] = { 'training_accuracy' : train_acc_cifar10,\n",
    "                       'test_accuracy' : test_acc_cifar10,\n",
    "                     }"
   ]
  },
  {
   "cell_type": "code",
   "execution_count": null,
   "id": "cfe900d0-8b98-469e-bfc8-ac8e60be6d41",
   "metadata": {},
   "outputs": [],
   "source": [
    "# Save the outputs in a json file\n",
    "with open(\"experiments/exp1/vit.json\", \"w\") as f:\n",
    "    json.dump(runs, f)"
   ]
  },
  {
   "cell_type": "markdown",
   "id": "883c4c38-de44-446a-a4ca-c75c4a12dc8e",
   "metadata": {},
   "source": [
    "------------------------------------------------------------------------"
   ]
  },
  {
   "cell_type": "markdown",
   "id": "d7b6742b-d5c4-4133-9f22-afedfd562b3f",
   "metadata": {},
   "source": [
    "### CIFAR-100\n",
    "\n",
    "The CIFAR-100 dataset consists of **60,000 32x32** color images in **100** different classes. The 100 classes are grouped into 20 superclasses, such as aquatic mammals, flowers, insects, vehicles, etc. There are **600** images per class, with **500** for training and **100** for testing. It is also a commonly benchmark for image classification and deep learning research.\n",
    "\n",
    "------------------------------------------------------------------------"
   ]
  },
  {
   "cell_type": "markdown",
   "id": "600e025d-d793-4ec6-9cfd-48787feca907",
   "metadata": {},
   "source": [
    "We load the dataset into a PyTorch dataloader and plot the first 10 images from the train loader. **Note** that we need to make sure that the batch size is greater than or equal 10 to prevent any errors during plotting."
   ]
  },
  {
   "cell_type": "code",
   "execution_count": null,
   "id": "4184f09e-093b-439a-923f-fc71cb9a813f",
   "metadata": {},
   "outputs": [],
   "source": [
    "# Plot some images from the CIFAR-100 dataset\n",
    "loader = get_vit_loaders(dataset=\"cifar100\", batch_size=32)\n",
    "plot_images_from_dataloader(loader[\"train_loader\"])"
   ]
  },
  {
   "cell_type": "markdown",
   "id": "dee80033-65d2-4afa-a597-45e18bb28bcd",
   "metadata": {},
   "source": [
    "------------------------------------------------------------------------\n",
    "\n",
    "Now we are ready to fine tune the model on the **CIFAR100** dataset."
   ]
  },
  {
   "cell_type": "code",
   "execution_count": null,
   "id": "081d4aa4-f633-4ba2-a390-fbb4132a084c",
   "metadata": {},
   "outputs": [],
   "source": [
    "# Fine tune the model on imagenet\n",
    "train_acc_cifar100, test_acc_cifar100 = train_vit_model(loaders=loader)"
   ]
  },
  {
   "cell_type": "markdown",
   "id": "33085511-8e15-49b0-9922-fc53e4ab91f1",
   "metadata": {},
   "source": [
    "------------------------------------------------------------------------\n",
    "\n",
    "We save the results in `runs` using the key `cifar100`."
   ]
  },
  {
   "cell_type": "code",
   "execution_count": null,
   "id": "275ca729-dcf9-4707-a716-27b93473a0ac",
   "metadata": {},
   "outputs": [],
   "source": [
    "# Add the results to a dictionary\n",
    "runs[\"cifar100\"] = { 'training_accuracy' : train_acc_cifar100,\n",
    "                       'test_accuracy' : test_acc_cifar100,\n",
    "                     }"
   ]
  },
  {
   "cell_type": "code",
   "execution_count": null,
   "id": "74065e74-fd91-4f7b-bad7-2edc35352959",
   "metadata": {},
   "outputs": [],
   "source": [
    "# Save the outputs in a json file\n",
    "with open(\"experiments/exp1/vit.json\", \"w\") as f:\n",
    "    json.dump(runs, f)"
   ]
  },
  {
   "cell_type": "markdown",
   "id": "e23468bc-488b-4224-9bb8-2db7882e05ec",
   "metadata": {},
   "source": [
    "------------------------------------------------------------------------"
   ]
  },
  {
   "cell_type": "markdown",
   "id": "404386cd-5a18-493c-8f97-3c5ca9df835d",
   "metadata": {},
   "source": [
    "### Oxford-IIIT Pets\n",
    "\n",
    "The Oxford-IIIT Pets is a **37** category pet dataset with roughly **200** images for each class created by the Visual Geometry Group at Oxford. The images have large variations in scale, pose and lighting. All images have an associated ground truth annotation of breed, head ROI (region of interest), and pixel level trimap segmentation. The dataset is useful for fine-grained image classification and segmentation tasks.\n",
    "\n",
    "------------------------------------------------------------------------"
   ]
  },
  {
   "cell_type": "markdown",
   "id": "afc88dc4-203c-4ed6-87cb-824325b15eaa",
   "metadata": {},
   "source": [
    "We start by loading the dataset and plot a random sample of 10 images from the train loader."
   ]
  },
  {
   "cell_type": "code",
   "execution_count": null,
   "id": "5b446a58-46a3-4988-86c6-00d28eda7c47",
   "metadata": {},
   "outputs": [],
   "source": [
    "# Plot some images from the Oxford-IIIT Pets dataset\n",
    "loader = get_vit_loaders(dataset=\"oxford_pets\", batch_size=32)\n",
    "plot_images_from_dataloader(loader[\"train_loader\"])"
   ]
  },
  {
   "cell_type": "markdown",
   "id": "543e2eb4-33c3-48ab-a2d4-faf38a28609f",
   "metadata": {},
   "source": [
    "------------------------------------------------------------------------\n",
    "\n",
    "We fine-tune the vision transformer on the dataset for 10 epochs."
   ]
  },
  {
   "cell_type": "code",
   "execution_count": null,
   "id": "22bb8e15-7c42-49de-9238-dfe04a01ce72",
   "metadata": {},
   "outputs": [],
   "source": [
    "# Fine tune the model on imagenet\n",
    "train_acc_oxford_pets, test_acc_oxford_pets = train_vit_model(loaders=loader)"
   ]
  },
  {
   "cell_type": "markdown",
   "id": "8cb3b53d-721a-47a9-ac84-c02a04f54585",
   "metadata": {},
   "source": [
    "------------------------------------------------------------------------\n",
    "\n",
    "We save the results in the `runs` dictionary as usual using the dataset name as key."
   ]
  },
  {
   "cell_type": "code",
   "execution_count": null,
   "id": "26619a00-fd40-4e64-97b4-38080440170f",
   "metadata": {},
   "outputs": [],
   "source": [
    "# Add the results to a dictionary\n",
    "runs[\"oxford_pets\"] = { 'training_accuracy' : train_acc_oxford_pets,\n",
    "                       'test_accuracy' : test_acc_oxford_pets,\n",
    "                     }"
   ]
  },
  {
   "cell_type": "code",
   "execution_count": null,
   "id": "9f151d34-c8bb-4dbc-a98b-791917737ecc",
   "metadata": {},
   "outputs": [],
   "source": [
    "# Save the outputs in a json file\n",
    "with open(\"experiments/exp1/vit.json\", \"w\") as f:\n",
    "    json.dump(runs, f)"
   ]
  },
  {
   "cell_type": "markdown",
   "id": "8d49fb1f-8651-4f9a-b961-a1430bd30d08",
   "metadata": {},
   "source": [
    "------------------------------------------------------------------------"
   ]
  },
  {
   "cell_type": "markdown",
   "id": "a64c98f9-9b7b-4284-8e2e-2963cdefe0ab",
   "metadata": {},
   "source": [
    "### Oxford Flowers-102\n",
    "\n",
    "The Oxford Flowers-102 dataset consists of **102** flower categories commonly occurring in the United Kingdom. Each class consists of between **40 and 258** images. The images have large scale, pose and light variations. In addition, there are categories that have large variations within the category and several very similar categories. The dataset also provides image labels, segmentations, and distances based on shape and color features.\n",
    "\n",
    "------------------------------------------------------------------------"
   ]
  },
  {
   "cell_type": "markdown",
   "id": "236fb720-626b-438c-960f-18d23a26e5dc",
   "metadata": {},
   "source": [
    "For this dataset we need to define the classes array as it is not defined in the PyTorch dataset. We load the dataset into PyTorch data loader and plot the first 10 images."
   ]
  },
  {
   "cell_type": "code",
   "execution_count": null,
   "id": "a5bf5636-4c90-4168-b842-0524605a8369",
   "metadata": {},
   "outputs": [],
   "source": [
    "# Plot some images from the Oxford Flowers-102 Pets dataset\n",
    "loader = get_vit_loaders(dataset=\"flowers_102\", batch_size=32)\n",
    "\n",
    "# We initialize the flowers names as they are not on Pytorch (used for plotting)\n",
    "flower_classes = ['pink primrose', 'hard-leaved pocket orchid', 'canterbury bells', 'sweet pea',\n",
    " 'english marigold', 'tiger lily', 'moon orchid', 'bird of paradise', 'monkshood', 'globe thistle',\n",
    " 'snapdragon', \"colt's foot\", 'king protea', 'spear thistle', 'yellow iris', 'globe-flower', 'purple coneflower',\n",
    " 'peruvian lily', 'balloon flower', 'giant white arum lily', 'fire lily', 'pincushion flower', 'fritillary',\n",
    " 'red ginger', 'grape hyacinth', 'corn poppy', 'prince of wales feathers', 'stemless gentian', 'artichoke',\n",
    " 'sweet william', 'carnation', 'garden phlox', 'love in the mist', 'mexican aster', 'alpine sea holly',\n",
    " 'ruby-lipped cattleya', 'cape flower', 'great masterwort', 'siam tulip', 'lenten rose', 'barbeton daisy',\n",
    " 'daffodil', 'sword lily', 'poinsettia', 'bolero deep blue', 'wallflower', 'marigold', 'buttercup', 'oxeye daisy',\n",
    " 'common dandelion', 'petunia', 'wild pansy', 'primula', 'sunflower', 'pelargonium', 'bishop of llandaff', 'gaura',\n",
    " 'geranium', 'orange dahlia', 'pink-yellow dahlia', 'cautleya spicata', 'japanese anemone', 'black-eyed susan',\n",
    " 'silverbush', 'californian poppy', 'osteospermum', 'spring crocus', 'bearded iris', 'windflower', 'tree poppy',\n",
    " 'gazania', 'azalea', 'water lily', 'rose', 'thorn apple', 'morning glory', 'passion flower', 'lotus', 'toad lily',\n",
    " 'anthurium', 'frangipani', 'clematis', 'hibiscus', 'columbine', 'desert-rose', 'tree mallow', 'magnolia',\n",
    " 'cyclamen', 'watercress', 'canna lily', 'hippeastrum', 'bee balm', 'ball moss', 'foxglove', 'bougainvillea',\n",
    " 'camellia', 'mallow', 'mexican petunia', 'bromelia', 'blanket flower', 'trumpet creeper', 'blackberry lily']\n",
    "\n",
    "# Save the Class names in the dataset\n",
    "loader[\"train_loader\"].dataset.classes = flower_classes\n",
    "# Plot dataset\n",
    "plot_images_from_dataloader(loader[\"train_loader\"])"
   ]
  },
  {
   "cell_type": "markdown",
   "id": "43896dc6-4289-4154-b9ca-97fccbba86fe",
   "metadata": {},
   "source": [
    "------------------------------------------------------------------------\n",
    "\n",
    "We fine-tune the model using the `train_vit_model` function and using the `Flowers102` dataset loader as the input arguement."
   ]
  },
  {
   "cell_type": "code",
   "execution_count": null,
   "id": "c7e6d65e-0234-44a1-90c1-bd2fa321acaf",
   "metadata": {},
   "outputs": [],
   "source": [
    "# Fine tune the model on imagenet\n",
    "train_acc_oxford_flowers, test_acc_oxford_flowers = train_vit_model(loaders=loader)"
   ]
  },
  {
   "cell_type": "markdown",
   "id": "d8bc4e90-ebe4-475b-b92b-721d9a8a30b8",
   "metadata": {},
   "source": [
    "------------------------------------------------------------------------\n",
    "\n",
    "Now we save the fine-tuning results in the `runs` dictionary."
   ]
  },
  {
   "cell_type": "code",
   "execution_count": null,
   "id": "2f73b1e5-7cac-46b3-b536-866bf53aecfb",
   "metadata": {},
   "outputs": [],
   "source": [
    "# Add the results to a dictionary\n",
    "runs[\"oxford_flowers\"] = { 'training_accuracy' : train_acc_oxford_flowers,\n",
    "                       'test_accuracy' : test_acc_oxford_flowers,\n",
    "                     }"
   ]
  },
  {
   "cell_type": "code",
   "execution_count": null,
   "id": "50f22f48-7f25-44cd-8655-1fd98d79c3a3",
   "metadata": {},
   "outputs": [],
   "source": [
    "# Save the outputs in a json file\n",
    "with open(\"experiments/exp1/vit.json\", \"w\") as f:\n",
    "    json.dump(runs, f)"
   ]
  },
  {
   "cell_type": "markdown",
   "id": "29af4482-193b-4254-910d-34f48ca4f3e1",
   "metadata": {},
   "source": [
    "------------------------------------------------------------------------\n",
    "\n",
    "Now that we are done with both the ResNet and the ViT model, we can create the results table back at the Experiments notebook."
   ]
  }
 ],
 "metadata": {
  "kernelspec": {
   "display_name": "Python 3",
   "language": "python",
   "name": "python3"
  },
  "language_info": {
   "codemirror_mode": {
    "name": "ipython",
    "version": 3
   },
   "file_extension": ".py",
   "mimetype": "text/x-python",
   "name": "python",
   "nbconvert_exporter": "python",
   "pygments_lexer": "ipython3",
   "version": "3.10.4"
  }
 },
 "nbformat": 4,
 "nbformat_minor": 5
}
