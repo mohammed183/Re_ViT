{
 "cells": [
  {
   "cell_type": "markdown",
   "metadata": {},
   "source": [
    "## Fine tuning the Vision Transformer\n",
    "\n",
    "In this notebook we use the pretrained ViT-L/16 model on the ImageNet-21k dataset which contains about 14 million images. The model will be finetuned on different datasets which are used for image classification tasks and then compared the performance to the baseline model.\n",
    "\n",
    "We will use the pretrained weights on hugging face which are the same weights provided by the authors but translated to be used in Pytorch. The next few cells show the functions used for finetuning the **ViT-L/16** model on different datasets.\n",
    "\n",
    "------------------------------------------------------------------------"
   ],
   "id": "3e93bf5c-64f8-4679-82e0-d8bbecbd0058"
  },
  {
   "cell_type": "markdown",
   "metadata": {},
   "source": [
    "We start by importing the required modules."
   ],
   "id": "cebbef63-1a32-4e69-b480-e23d772216cf"
  },
  {
   "cell_type": "code",
   "execution_count": null,
   "metadata": {},
   "outputs": [],
   "source": [
    "import os\n",
    "import json\n",
    "import time\n",
    "import torch\n",
    "import numpy as np\n",
    "import matplotlib.pyplot as plt\n",
    "from transformers import ViTForImageClassification\n",
    "from torchvision import transforms, datasets, models"
   ],
   "id": "c25c7b8c-b0f1-49a2-92bc-a915560ba86c"
  },
  {
   "cell_type": "markdown",
   "metadata": {},
   "source": [
    "------------------------------------------------------------------------\n",
    "\n",
    "Similar to what we did with the **ResNet** model, we create a dataloader that loads the same five datasets. The difference between the two functions is the size of the images in the dataloader as each model tolerates different input sizes for the images."
   ],
   "id": "effd4266-abbc-4157-8dbd-f2008be1df75"
  },
  {
   "cell_type": "code",
   "execution_count": null,
   "metadata": {},
   "outputs": [],
   "source": [
    "# Create data loaders for transformer\n",
    "def get_vit_loaders(dataset=\"imagenet\", batch_size=64):\n",
    "    \"\"\"\n",
    "    This loads the whole dataset into memory and returns train and test data to\n",
    "    be used by the Vision Transformer\n",
    "    @param dataset (string): dataset name to load\n",
    "    @param batch_size (int): batch size for training and testing\n",
    "\n",
    "    @returns dict() with train and test data loaders with keys `train_loader`, `test_loader`\n",
    "    \"\"\"\n",
    "    # Normalization using channel means\n",
    "    normalize_transform = transforms.Normalize((0.5, 0.5, 0.5), (0.5, 0.5, 0.5))\n",
    "\n",
    "    # Creating transform function\n",
    "    train_transform = transforms.Compose([transforms.Resize((224,224)), transforms.ToTensor(), normalize_transform])\n",
    "\n",
    "    # Test transformation function\n",
    "    test_transform = transforms.Compose([transforms.Resize((224,224)), transforms.ToTensor(), normalize_transform])\n",
    "\n",
    "    # Load the dataset from torchvision datasets\n",
    "    if dataset == \"imagenet\":\n",
    "        # Load ImageNet\n",
    "        original_train_dataset = None\n",
    "        train_loader = None\n",
    "        test_transform = transforms.Compose([transforms.Resize((384,384)), transforms.ToTensor(), normalize_transform])\n",
    "        original_test_dataset = datasets.ImageFolder(root=os.path.join('data', 'imagenet', 'val'), transform=test_transform)\n",
    "\n",
    "    elif dataset == \"cifar10\":\n",
    "        # Load CIFAR-10\n",
    "        original_train_dataset = datasets.CIFAR10(root=os.path.join('data', 'cifar10_data'),\n",
    "                                             train=True, transform=train_transform, download=True)\n",
    "        original_test_dataset = datasets.CIFAR10(root=os.path.join('data', 'cifar10_data'),\n",
    "                                             train=False, transform=test_transform, download=True)\n",
    "    elif dataset == \"cifar100\":\n",
    "        # Load CIFAR-100\n",
    "        original_train_dataset = datasets.CIFAR100(root=os.path.join('data', 'cifar100_data'),\n",
    "                                             train=True, transform=train_transform, download=True)\n",
    "        original_test_dataset = datasets.CIFAR100(root=os.path.join('data', 'cifar100_data'),\n",
    "                                             train=False, transform=test_transform, download=True)\n",
    "    elif dataset == \"oxford_pets\":\n",
    "        # Load Oxford-IIIT Pets\n",
    "        original_train_dataset = datasets.OxfordIIITPet(root=os.path.join('data', 'oxford_iiit_pets_data'),\n",
    "                                             split='trainval', transform=train_transform, download=True)\n",
    "        original_test_dataset = datasets.OxfordIIITPet(root=os.path.join('data', 'oxford_iiit_pets_data'),\n",
    "                                             split='test', transform=test_transform, download=True)\n",
    "    elif dataset == \"flowers_102\":\n",
    "        # Load Oxford Flowers-102\n",
    "        original_train_dataset = datasets.Flowers102(root=os.path.join('data', 'oxford_flowers_102_data'),\n",
    "                                             split='train', transform=train_transform, download=True)\n",
    "        original_test_dataset = datasets.Flowers102(root=os.path.join('data', 'oxford_flowers_102_data'),\n",
    "                                             split='test', transform=test_transform, download=True)\n",
    "    else:\n",
    "        # Raise an error if the dataset is not valid\n",
    "        raise ValueError(\"Invalid dataset name. Please choose one of the following: imagenet, cifar10, cifar100, oxford_pets, flowers_102\")\n",
    "\n",
    "    # Creating data loaders\n",
    "    loader_args = {\n",
    "        \"batch_size\": batch_size,\n",
    "    }\n",
    "\n",
    "    if original_train_dataset is not None:\n",
    "        train_loader = torch.utils.data.DataLoader(\n",
    "            dataset=original_train_dataset,\n",
    "            shuffle=True,\n",
    "            **loader_args)\n",
    "\n",
    "    test_loader = torch.utils.data.DataLoader(\n",
    "        dataset=original_test_dataset,\n",
    "        shuffle=True,\n",
    "        **loader_args)\n",
    "\n",
    "    return {\"train_loader\": train_loader,\n",
    "            \"test_loader\": test_loader}"
   ],
   "id": "2e0c3843-61e1-498a-845d-3f92514a481c"
  },
  {
   "cell_type": "markdown",
   "metadata": {},
   "source": [
    "------------------------------------------------------------------------\n",
    "\n",
    "-   `get_accuracy`: This function takes the model predictions and the true labels as inputs and returns the accuracy as a float value.\n",
    "-   `evaluate_on_test`: This function takes the model, the loss criterion, the test dataloader, and the device as inputs and returns the test accuracy and loss as float values."
   ],
   "id": "d07ed90e-2ff7-4c3c-a7e4-0e3ce2f93692"
  },
  {
   "cell_type": "code",
   "execution_count": null,
   "metadata": {},
   "outputs": [],
   "source": [
    "# Function takes predictions and true values to return accuracies\n",
    "def get_accuracy(logit, true_y):\n",
    "    pred_y = torch.argmax(logit, dim=1)\n",
    "    return (pred_y == true_y).float().mean()\n",
    "\n",
    "# This Function is used to evaluate the model\n",
    "def evaluate_on_test(model, test_loader, device):\n",
    "    # Evaluate the model on all the test batches\n",
    "    accuracies = []\n",
    "    model.eval()\n",
    "    for batch_idx, (data_x, data_y) in enumerate(test_loader):\n",
    "        data_x = data_x.to(device)\n",
    "        data_y = data_y.to(device)\n",
    "\n",
    "        model_y = model(data_x)\n",
    "        batch_accuracy = get_accuracy(model_y.logits, data_y)\n",
    "\n",
    "        accuracies.append(batch_accuracy.item())\n",
    "\n",
    "        if batch_idx%1000 == 0:\n",
    "            print(f\"Mean accuracy at batch: {batch_idx} is {np.mean(accuracies) * 100}\")\n",
    "\n",
    "    test_accuracy = np.mean(accuracies) * 100\n",
    "    print(f\"Test accuracy: {test_accuracy}\")\n",
    "    return test_accuracy"
   ],
   "id": "064e0c51-317a-4b44-abb3-acfb9baea803"
  },
  {
   "cell_type": "markdown",
   "metadata": {},
   "source": [
    "------------------------------------------------------------------------\n",
    "\n",
    "The following function is used to train a vision transformer model on a given dataset and evaluate its performance on the train and test sets. The function takes the following arguments:\n",
    "\n",
    "-   `loaders`: a dictionary of PyTorch dataloaders for the train, test, and validation sets.\n",
    "-   `model_name`: a string to specify the name of the vision transformer model to use. The default is ‘google/vit-base-patch16-224-in21k’, which is a pre-trained model from Google that uses 16x16 patches and has 224 hidden units.\n",
    "-   lr: a float to specify the learning rate for the optimizer. The default is 0.003.\n",
    "-   `epochs`: an integer to specify the number of epochs to train the model. The default is 10.\n",
    "\n",
    "The function returns two lists of floats, which are the train and test accuracies for each epoch."
   ],
   "id": "6e686197-1fdd-4b8b-9e2b-fd47a490c9e2"
  },
  {
   "cell_type": "code",
   "execution_count": null,
   "metadata": {},
   "outputs": [],
   "source": [
    "# Function to train the model and return train and test accuracies\n",
    "def train_vit_model(loaders, title=\"\", model_name='google/vit-large-patch16-224-in21k',\n",
    "                         lr=0.003, epochs=10, random_seed=42, save=False):\n",
    "\n",
    "    # Create experiment directory\n",
    "    experiment_dir = os.path.join('experiments', title)\n",
    "\n",
    "    # make experiment directory\n",
    "    os.makedirs(experiment_dir, exist_ok=True)\n",
    "\n",
    "    # Set the seed\n",
    "    torch.manual_seed(random_seed)\n",
    "    np.random.seed(random_seed)\n",
    "\n",
    "    # Check if GPU is available\n",
    "    if torch.cuda.is_available():\n",
    "        device = torch.device('cuda:0')\n",
    "        print(\"CUDA Recognized\")\n",
    "    else:\n",
    "        device = torch.device('cpu')\n",
    "\n",
    "    # Get num_classes\n",
    "    num_classes = len(loaders[\"train_loader\"].dataset.classes)\n",
    "\n",
    "    # Load the pre-trained model\n",
    "    model = ViTForImageClassification.from_pretrained(model_name, num_labels=num_classes)\n",
    "    # Move the model to the device\n",
    "    model = model.to(device)\n",
    "\n",
    "    # Create the optimizer\n",
    "    optimizer = torch.optim.SGD(model.parameters(), lr=lr, momentum=0.9)\n",
    "\n",
    "    # Get batch size\n",
    "    batch_size = loaders[\"train_loader\"].batch_size\n",
    "\n",
    "    # Create the loss function\n",
    "    criterion = torch.nn.CrossEntropyLoss()\n",
    "\n",
    "    # Arrays to hold accuracies\n",
    "    test_acc = [0]\n",
    "    train_acc = [0]\n",
    "    # Iterate over the number of epochs\n",
    "    for epoch in range(1, epochs + 1):\n",
    "        model.to(device);\n",
    "        model.train()\n",
    "        print(f\"Epoch {epoch}\")\n",
    "        accuracies = []\n",
    "        losses = []\n",
    "\n",
    "        # Calculate loss and gradients for models on every training batch\n",
    "        for batch_idx, (data_x, data_y) in enumerate(loaders[\"train_loader\"]):\n",
    "            data_x = data_x.to(device)\n",
    "            data_y = data_y.to(device)\n",
    "\n",
    "            optimizer.zero_grad()\n",
    "            #model_y = model.classifier(model(data_x).pooler_output)\n",
    "            model_y = model(data_x).logits\n",
    "            loss = criterion(model_y, data_y)\n",
    "            batch_accuracy = get_accuracy(model_y, data_y)\n",
    "\n",
    "            # Perform back propagation\n",
    "            loss.backward()\n",
    "            optimizer.step()\n",
    "\n",
    "            accuracies.append(batch_accuracy.item())\n",
    "            losses.append(loss.item())\n",
    "\n",
    "        # Store training accuracy for plotting\n",
    "        train_loss = np.mean(losses)\n",
    "        train_accuracy = np.mean(accuracies)\n",
    "        train_acc.append(train_accuracy*100)\n",
    "\n",
    "        print(\"Train accuracy: {} Train loss: {}\".format(train_accuracy, train_loss))\n",
    "\n",
    "        # Evaluate the model on all the test batches\n",
    "        accuracies = []\n",
    "        losses = []\n",
    "        model.eval()\n",
    "        # Move the model to CPU\n",
    "        model.to(\"cpu\")\n",
    "        for batch_idx, (data_x, data_y) in enumerate(loaders[\"test_loader\"]):\n",
    "            # Move the data to CPU\n",
    "            data_x = data_x.to(\"cpu\")\n",
    "            data_y = data_y.to(\"cpu\")\n",
    "\n",
    "            model_y = model(data_x).logits\n",
    "            loss = criterion(model_y, data_y)\n",
    "            batch_accuracy = get_accuracy(model_y, data_y)\n",
    "\n",
    "            accuracies.append(batch_accuracy.item())\n",
    "            losses.append(loss.item())\n",
    "\n",
    "            # Break if there are more than 500 samples and not last iteration\n",
    "            if (batch_idx+1)*batch_size > 500 and epoch < epochs:\n",
    "                break\n",
    "\n",
    "        # Store test accuracy for plotting\n",
    "        test_loss = np.mean(losses)\n",
    "        test_accuracy = np.mean(accuracies)\n",
    "        test_acc.append(test_accuracy*100)\n",
    "        print(\"Test accuracy: {} Test loss: {}\".format(test_accuracy, test_loss))\n",
    "\n",
    "    # Save the final model\n",
    "    if save:\n",
    "        torch.save({\n",
    "            'model': model.state_dict()\n",
    "        }, os.path.join(experiment_dir, f'Vit-L/16{title}.pt'))\n",
    "\n",
    "    # return the accuracies\n",
    "    return train_acc, test_acc"
   ],
   "id": "c6f7c1b8-fa42-4d67-a895-f307a5438b81"
  },
  {
   "cell_type": "markdown",
   "metadata": {},
   "source": [
    "------------------------------------------------------------------------\n",
    "\n",
    "The following function `plot_images_from_dataloader` takes a PyTorch dataloader as an input and plots 10 of the images from the first batch of data. The function also shows the labels of the images according to the classes attribute of the dataloader’s dataset"
   ],
   "id": "2da90924-5b00-49ca-ac75-ce8c185161c1"
  },
  {
   "cell_type": "code",
   "execution_count": null,
   "metadata": {},
   "outputs": [],
   "source": [
    "# Define a function to plot 10 of the images\n",
    "def plot_images_from_dataloader(dataloader):\n",
    "    # Initialize empty tensors for images and labels\n",
    "    images = torch.empty(0)\n",
    "    labels = torch.empty(0, dtype=torch.long)\n",
    "\n",
    "    # Loop until the images and labels have at least 10 elements\n",
    "    while len(images) < 10:\n",
    "        # Get the next batch of images and labels from the dataloader\n",
    "        batch_images, batch_labels = next(iter(dataloader))\n",
    "        # Concatenate the batch images and labels to the existing tensors\n",
    "        images = torch.cat((images, batch_images), dim=0)\n",
    "        labels = torch.cat((labels, batch_labels), dim=0)\n",
    "    classes = dataloader.dataset.classes\n",
    "    # Create a figure with 2 rows and 5 columns\n",
    "    fig, axes = plt.subplots(2, 5, figsize=(10, 4))\n",
    "    for i, ax in enumerate(axes.flat):\n",
    "        image = images[i]\n",
    "        label = classes[labels[i]]\n",
    "        # Unnormalize the image\n",
    "        image = image / 2 + 0.5\n",
    "        image = image.numpy()\n",
    "        # Transpose the image\n",
    "        image = np.transpose(image, (1, 2, 0))\n",
    "        # Plot the image on the axis\n",
    "        ax.imshow(image)\n",
    "        # Set title as label\n",
    "        ax.set_title(label)\n",
    "        # Turn off the axis ticks\n",
    "        ax.set_xticks([])\n",
    "        ax.set_yticks([])\n",
    "    plt.show()\n",
    "\n",
    "# Define a function to calculate runtime per dataset\n",
    "def print_time(start_time, end_time):\n",
    "    # Calculate the difference in seconds\n",
    "    diff = end_time - start_time\n",
    "\n",
    "    # Convert the difference to hours, minutes, and seconds\n",
    "    hours, remainder = divmod(diff, 3600)\n",
    "    minutes, seconds = divmod(remainder, 60)\n",
    "\n",
    "    # Print the time in hours:minutes:seconds format\n",
    "    print(f\"Cell execution time: {int(hours)}:{int(minutes)}:{seconds}\")"
   ],
   "id": "afc73a12-056d-4b05-a93b-9ddd4ded434b"
  },
  {
   "cell_type": "markdown",
   "metadata": {},
   "source": [
    "### ImageNet\n",
    "\n",
    "The ImageNet dataset consists of **1000** object classes and contains **1,281,167** training images, **50,000** validation images and **100,000** test images. The images vary in resolution but it is common practice to train deep learning models on sub-sampled images of **256x256**pixels. This dataset is widely used for image classification and localization tasks and has been the benchmark for many state-of-the-art algorithms.\n",
    "\n",
    "------------------------------------------------------------------------"
   ],
   "id": "d0e12f59-1c91-4a19-87d3-a38c738ea4de"
  },
  {
   "cell_type": "markdown",
   "metadata": {},
   "source": [
    "The first thing we do is load the dataset into a PyTorch dataloader and plot a sample of 10 images to visualize it."
   ],
   "id": "af5036ec-17d5-4522-b4c4-2749c2430a75"
  },
  {
   "cell_type": "code",
   "execution_count": null,
   "metadata": {},
   "outputs": [],
   "source": [
    "# Plot some images from the ImageNet dataset\n",
    "loader = get_vit_loaders(dataset=\"imagenet\", batch_size=8)\n",
    "plot_images_from_dataloader(loader[\"test_loader\"])"
   ],
   "id": "dd39f95f-6a83-4342-856f-4dcd1bcd6d77"
  },
  {
   "cell_type": "markdown",
   "metadata": {},
   "source": [
    "------------------------------------------------------------------------\n",
    "\n",
    "We load the model that was pretrained and fine-tuned on the **ImageNet-1k** which was published and evaluate the model directly."
   ],
   "id": "bd9e60a1-c205-48d9-b44c-4d3b38abb6f7"
  },
  {
   "cell_type": "code",
   "execution_count": null,
   "metadata": {},
   "outputs": [],
   "source": [
    "# Check if GPU is available\n",
    "if torch.cuda.is_available():\n",
    "    device = torch.device('cuda:0')\n",
    "    print(\"CUDA Recognized\")\n",
    "else:\n",
    "    device = torch.device('cpu')\n",
    "\n",
    "# Get num_classes\n",
    "num_classes = len(loader[\"test_loader\"].dataset.classes)\n",
    "\n",
    "# Get the fine tuned model on the ImageNet dataset\n",
    "model = ViTForImageClassification.from_pretrained('google/vit-large-patch16-384')\n",
    "# Move the model to the device\n",
    "model = model.to(device)"
   ],
   "id": "a39bf45a-6578-4e63-a315-6ce8ccdcef56"
  },
  {
   "cell_type": "markdown",
   "metadata": {},
   "source": [
    "------------------------------------------------------------------------\n",
    "\n",
    "We evaluate the model on the train and test splits to get the train and test accuracies."
   ],
   "id": "61e03124-6ce0-4df9-9571-0c0530fea0bc"
  },
  {
   "cell_type": "code",
   "execution_count": null,
   "metadata": {},
   "outputs": [],
   "source": [
    "start_time = time.time()\n",
    "# Print the Performance of the Ready fine tuned model\n",
    "test_acc_imagenet = evaluate_on_test(model, loader[\"test_loader\"], device)\n",
    "# Calculate and print cell execution time\n",
    "end_time = time.time()\n",
    "print_time(start_time, end_time)\n",
    "# delete model to free gpu\n",
    "del model\n",
    "# Release unused memory\n",
    "torch.cuda.empty_cache()"
   ],
   "id": "58c7edb0-4391-426e-a166-a4b0814b7f58"
  },
  {
   "cell_type": "markdown",
   "metadata": {},
   "source": [
    "------------------------------------------------------------------------\n",
    "\n",
    "We save the results for the **ImageNet** dataset in a dictionary to use later for comparing results."
   ],
   "id": "206d4f86-a8a1-49ef-9200-38dfbd1f05ad"
  },
  {
   "cell_type": "code",
   "execution_count": null,
   "metadata": {},
   "outputs": [],
   "source": [
    "# Create dictionary runs\n",
    "runs = {}\n",
    "\n",
    "# Check if the file exists\n",
    "if os.path.exists(\"experiments/vit.json\"):\n",
    "    # Open the file in read mode\n",
    "    with open(\"experiments/vit.json\", \"r\") as f:\n",
    "        # Load the data from the file to runs\n",
    "        runs = json.load(f)\n",
    "\n",
    "# Add the results to a dictionary\n",
    "runs[\"imagenet\"] = test_acc_imagenet                   "
   ],
   "id": "3f3f46a8-5c52-4859-af41-f5f7d95cef5b"
  },
  {
   "cell_type": "code",
   "execution_count": null,
   "metadata": {},
   "outputs": [],
   "source": [
    "# Save the outputs in a json file\n",
    "with open(\"experiments/vit.json\", \"w\") as f:\n",
    "    json.dump(runs, f)"
   ],
   "id": "1cd8d004-acf2-4ae2-afd8-60ba0d73ae9c"
  },
  {
   "cell_type": "markdown",
   "metadata": {},
   "source": [
    "------------------------------------------------------------------------"
   ],
   "id": "f60ca999-5217-4231-874d-4de69b29e32a"
  },
  {
   "cell_type": "markdown",
   "metadata": {},
   "source": [
    "### CIFAR-10\n",
    "\n",
    "The CIFAR-10 dataset consists of **60,000 32x32** color images in **10** different classes. The 10 classes are airplane, automobile, bird, cat, deer, dog, frog, horse, ship, and truck. There are **6,000** images per class, with **5,000** for training and **1,000** for testing. It is a popular benchmark for image classification and deep learning research.\n",
    "\n",
    "------------------------------------------------------------------------"
   ],
   "id": "f0d0c8a6-b4c0-4755-bd7c-90d4557bc02e"
  },
  {
   "cell_type": "markdown",
   "metadata": {},
   "source": [
    "First we load the dataset into dataloaders and plot a sample to visualize how the dataset looks like. **Note** that you should decide the `batch_size` that fits the GPU you are using."
   ],
   "id": "c11188ed-bb6d-4c97-a3f8-d876b75f8937"
  },
  {
   "cell_type": "code",
   "execution_count": null,
   "metadata": {},
   "outputs": [],
   "source": [
    "# Plot some images from the CIFAR-10 dataset\n",
    "loader = get_vit_loaders(dataset=\"cifar10\", batch_size=32)\n",
    "plot_images_from_dataloader(loader[\"train_loader\"])"
   ],
   "id": "64643d48-62c8-462e-9a72-d5602d4631fa"
  },
  {
   "cell_type": "markdown",
   "metadata": {},
   "source": [
    "------------------------------------------------------------------------\n",
    "\n",
    "We fine tune the pretrained vision transformer on the **CIFAR-10** dataset to get the train and test accuracies."
   ],
   "id": "994aaf76-4845-432e-aa87-7e701564f4c2"
  },
  {
   "cell_type": "code",
   "execution_count": null,
   "metadata": {},
   "outputs": [],
   "source": [
    "start_time = time.time()\n",
    "# Fine tune the model on CIFAR-10\n",
    "train_acc_cifar10, test_acc_cifar10 = train_vit_model(loaders=loader)\n",
    "# Calculate and print cell execution time\n",
    "end_time = time.time()\n",
    "print_time(start_time, end_time)"
   ],
   "id": "cfd76d89-c67d-422d-a5d1-c8cef2de84fc"
  },
  {
   "cell_type": "markdown",
   "metadata": {},
   "source": [
    "------------------------------------------------------------------------\n",
    "\n",
    "We save the obtained results to use it later for the creating the results table."
   ],
   "id": "4e496d47-08cb-44d0-8434-557fb9268ef9"
  },
  {
   "cell_type": "code",
   "execution_count": null,
   "metadata": {},
   "outputs": [],
   "source": [
    "# Create dictionary runs\n",
    "runs = {}\n",
    "\n",
    "# Check if the file exists\n",
    "if os.path.exists(\"experiments/vit.json\"):\n",
    "    # Open the file in read mode\n",
    "    with open(\"experiments/vit.json\", \"r\") as f:\n",
    "        # Load the data from the file to runs\n",
    "        runs = json.load(f)\n",
    "\n",
    "# Add the results to a dictionary\n",
    "runs[\"cifar10\"] = test_acc_cifar10[-1]"
   ],
   "id": "0c35a561-9d42-4322-946e-e250f5579dfa"
  },
  {
   "cell_type": "code",
   "execution_count": null,
   "metadata": {},
   "outputs": [],
   "source": [
    "# Save the outputs in a json file\n",
    "with open(\"experiments/vit.json\", \"w\") as f:\n",
    "    json.dump(runs, f)"
   ],
   "id": "33cc111c-07aa-46ca-b1fc-490b2f2e84d5"
  },
  {
   "cell_type": "markdown",
   "metadata": {},
   "source": [
    "------------------------------------------------------------------------"
   ],
   "id": "8da6b0fb-634f-4ea9-aa1c-f5a4e927b890"
  },
  {
   "cell_type": "markdown",
   "metadata": {},
   "source": [
    "### CIFAR-100\n",
    "\n",
    "The CIFAR-100 dataset consists of **60,000 32x32** color images in **100** different classes. The 100 classes are grouped into 20 superclasses, such as aquatic mammals, flowers, insects, vehicles, etc. There are **600** images per class, with **500** for training and **100** for testing. It is also a commonly benchmark for image classification and deep learning research.\n",
    "\n",
    "------------------------------------------------------------------------"
   ],
   "id": "050b9f4b-f6e1-48a5-8a09-2f0b068243a7"
  },
  {
   "cell_type": "markdown",
   "metadata": {},
   "source": [
    "We load the dataset into a PyTorch dataloader and plot the first 10 images from the train loader. **Note** that we need to make sure that the batch size is greater than or equal 10 to prevent any errors during plotting."
   ],
   "id": "21d86ded-6321-4ee5-879c-fc10188368db"
  },
  {
   "cell_type": "code",
   "execution_count": null,
   "metadata": {},
   "outputs": [],
   "source": [
    "# Plot some images from the CIFAR-100 dataset\n",
    "loader = get_vit_loaders(dataset=\"cifar100\", batch_size=32)\n",
    "plot_images_from_dataloader(loader[\"train_loader\"])"
   ],
   "id": "39babcc8-fe39-4f87-aea9-1d955d202858"
  },
  {
   "cell_type": "markdown",
   "metadata": {},
   "source": [
    "------------------------------------------------------------------------\n",
    "\n",
    "Now we are ready to fine tune the model on the **CIFAR100** dataset."
   ],
   "id": "b8daebc3-412e-4df1-ab34-ce415afecc23"
  },
  {
   "cell_type": "code",
   "execution_count": null,
   "metadata": {},
   "outputs": [],
   "source": [
    "start_time = time.time()\n",
    "# Fine tune the model on CIFAR-100\n",
    "train_acc_cifar100, test_acc_cifar100 = train_vit_model(loaders=loader)\n",
    "# Calculate and print cell execution time\n",
    "end_time = time.time()\n",
    "print_time(start_time, end_time)"
   ],
   "id": "d9f3d8b8-c2b8-4f37-926e-d75748f873be"
  },
  {
   "cell_type": "markdown",
   "metadata": {},
   "source": [
    "------------------------------------------------------------------------\n",
    "\n",
    "We save the results in `runs` using the key `cifar100`."
   ],
   "id": "6db49b87-4e8e-49fd-92f8-a9593b2531a3"
  },
  {
   "cell_type": "code",
   "execution_count": null,
   "metadata": {},
   "outputs": [],
   "source": [
    "# Create dictionary runs\n",
    "runs = {}\n",
    "\n",
    "# Check if the file exists\n",
    "if os.path.exists(\"experiments/vit.json\"):\n",
    "    # Open the file in read mode\n",
    "    with open(\"experiments/vit.json\", \"r\") as f:\n",
    "        # Load the data from the file to runs\n",
    "        runs = json.load(f)\n",
    "\n",
    "# Add the results to a dictionary\n",
    "runs[\"cifar100\"] = test_acc_cifar100[-1]"
   ],
   "id": "4e37dae1-7de4-4b03-9e23-90f7bfb7873f"
  },
  {
   "cell_type": "code",
   "execution_count": null,
   "metadata": {},
   "outputs": [],
   "source": [
    "# Save the outputs in a json file\n",
    "with open(\"experiments/vit.json\", \"w\") as f:\n",
    "    json.dump(runs, f)"
   ],
   "id": "7e02126f-414a-435a-9f67-d0a1e7eb8656"
  },
  {
   "cell_type": "markdown",
   "metadata": {},
   "source": [
    "------------------------------------------------------------------------"
   ],
   "id": "11cd5608-9a32-4800-b830-81874da6af7d"
  },
  {
   "cell_type": "markdown",
   "metadata": {},
   "source": [
    "### Oxford-IIIT Pets\n",
    "\n",
    "The Oxford-IIIT Pets is a **37** category pet dataset with roughly **200** images for each class created by the Visual Geometry Group at Oxford. The images have large variations in scale, pose and lighting. All images have an associated ground truth annotation of breed, head ROI (region of interest), and pixel level trimap segmentation. The dataset is useful for fine-grained image classification and segmentation tasks.\n",
    "\n",
    "------------------------------------------------------------------------"
   ],
   "id": "3d988208-b619-4c87-b43e-4c66e24eba18"
  },
  {
   "cell_type": "markdown",
   "metadata": {},
   "source": [
    "We start by loading the dataset and plot a random sample of 10 images from the train loader."
   ],
   "id": "3f0f6130-7423-4fd8-aa5c-3a039d820ea3"
  },
  {
   "cell_type": "code",
   "execution_count": null,
   "metadata": {},
   "outputs": [],
   "source": [
    "# Plot some images from the Oxford-IIIT Pets dataset\n",
    "loader = get_vit_loaders(dataset=\"oxford_pets\", batch_size=32)\n",
    "plot_images_from_dataloader(loader[\"train_loader\"])"
   ],
   "id": "5ffe42ff-5ef0-44b6-ad1f-866c2d615dc3"
  },
  {
   "cell_type": "markdown",
   "metadata": {},
   "source": [
    "------------------------------------------------------------------------\n",
    "\n",
    "We fine-tune the vision transformer on the dataset for 10 epochs."
   ],
   "id": "d166fdd2-50f0-4057-9cb5-474fd0c1c463"
  },
  {
   "cell_type": "code",
   "execution_count": null,
   "metadata": {},
   "outputs": [],
   "source": [
    "start_time = time.time()\n",
    "# Fine tune the model on Oxford-IIIT Pets\n",
    "train_acc_oxford_pets, test_acc_oxford_pets = train_vit_model(loaders=loader)\n",
    "# Calculate and print cell execution time\n",
    "end_time = time.time()\n",
    "print_time(start_time, end_time)"
   ],
   "id": "4ca4075a-c310-4874-8ca3-24675d48455c"
  },
  {
   "cell_type": "markdown",
   "metadata": {},
   "source": [
    "------------------------------------------------------------------------\n",
    "\n",
    "We save the results in the `runs` dictionary as usual using the dataset name as key."
   ],
   "id": "e1235c97-7f06-4cde-a35a-0839b78f037c"
  },
  {
   "cell_type": "code",
   "execution_count": null,
   "metadata": {},
   "outputs": [],
   "source": [
    "# Create dictionary runs\n",
    "runs = {}\n",
    "\n",
    "# Check if the file exists\n",
    "if os.path.exists(\"experiments/vit.json\"):\n",
    "    # Open the file in read mode\n",
    "    with open(\"experiments/vit.json\", \"r\") as f:\n",
    "        # Load the data from the file to runs\n",
    "        runs = json.load(f)\n",
    "\n",
    "# Add the results to a dictionary\n",
    "runs[\"oxford_pets\"] = test_acc_oxford_pets[-1]"
   ],
   "id": "c2915de9-a92c-4deb-b402-de9553636b83"
  },
  {
   "cell_type": "code",
   "execution_count": null,
   "metadata": {},
   "outputs": [],
   "source": [
    "# Save the outputs in a json file\n",
    "with open(\"experiments/vit.json\", \"w\") as f:\n",
    "    json.dump(runs, f)"
   ],
   "id": "8f0eff6a-cfa1-4ee7-8e4e-0615b4975409"
  },
  {
   "cell_type": "markdown",
   "metadata": {},
   "source": [
    "------------------------------------------------------------------------"
   ],
   "id": "ef7e4e68-a7ef-453b-8b41-71af33701c7d"
  },
  {
   "cell_type": "markdown",
   "metadata": {},
   "source": [
    "### Oxford Flowers-102\n",
    "\n",
    "The Oxford Flowers-102 dataset consists of **102** flower categories commonly occurring in the United Kingdom. Each class consists of between **40 and 258** images. The images have large scale, pose and light variations. In addition, there are categories that have large variations within the category and several very similar categories. The dataset also provides image labels, segmentations, and distances based on shape and color features.\n",
    "\n",
    "------------------------------------------------------------------------"
   ],
   "id": "f16b6f6d-da0f-41c5-9652-2642c24801c9"
  },
  {
   "cell_type": "markdown",
   "metadata": {},
   "source": [
    "For this dataset we need to define the classes array as it is not defined in the PyTorch dataset. We load the dataset into PyTorch data loader and plot the first 10 images."
   ],
   "id": "495eb661-774b-4e0b-9043-f1017725ccc4"
  },
  {
   "cell_type": "code",
   "execution_count": null,
   "metadata": {},
   "outputs": [],
   "source": [
    "# Plot some images from the Oxford Flowers-102 Pets dataset\n",
    "loader = get_vit_loaders(dataset=\"flowers_102\", batch_size=32)\n",
    "\n",
    "# We initialize the flowers names as they are not on Pytorch (used for plotting)\n",
    "flower_classes = ['pink primrose', 'hard-leaved pocket orchid', 'canterbury bells', 'sweet pea',\n",
    " 'english marigold', 'tiger lily', 'moon orchid', 'bird of paradise', 'monkshood', 'globe thistle',\n",
    " 'snapdragon', \"colt's foot\", 'king protea', 'spear thistle', 'yellow iris', 'globe-flower', 'purple coneflower',\n",
    " 'peruvian lily', 'balloon flower', 'giant white arum lily', 'fire lily', 'pincushion flower', 'fritillary',\n",
    " 'red ginger', 'grape hyacinth', 'corn poppy', 'prince of wales feathers', 'stemless gentian', 'artichoke',\n",
    " 'sweet william', 'carnation', 'garden phlox', 'love in the mist', 'mexican aster', 'alpine sea holly',\n",
    " 'ruby-lipped cattleya', 'cape flower', 'great masterwort', 'siam tulip', 'lenten rose', 'barbeton daisy',\n",
    " 'daffodil', 'sword lily', 'poinsettia', 'bolero deep blue', 'wallflower', 'marigold', 'buttercup', 'oxeye daisy',\n",
    " 'common dandelion', 'petunia', 'wild pansy', 'primula', 'sunflower', 'pelargonium', 'bishop of llandaff', 'gaura',\n",
    " 'geranium', 'orange dahlia', 'pink-yellow dahlia', 'cautleya spicata', 'japanese anemone', 'black-eyed susan',\n",
    " 'silverbush', 'californian poppy', 'osteospermum', 'spring crocus', 'bearded iris', 'windflower', 'tree poppy',\n",
    " 'gazania', 'azalea', 'water lily', 'rose', 'thorn apple', 'morning glory', 'passion flower', 'lotus', 'toad lily',\n",
    " 'anthurium', 'frangipani', 'clematis', 'hibiscus', 'columbine', 'desert-rose', 'tree mallow', 'magnolia',\n",
    " 'cyclamen', 'watercress', 'canna lily', 'hippeastrum', 'bee balm', 'ball moss', 'foxglove', 'bougainvillea',\n",
    " 'camellia', 'mallow', 'mexican petunia', 'bromelia', 'blanket flower', 'trumpet creeper', 'blackberry lily']\n",
    "\n",
    "# Save the Class names in the dataset\n",
    "loader[\"train_loader\"].dataset.classes = flower_classes\n",
    "# Plot dataset\n",
    "plot_images_from_dataloader(loader[\"train_loader\"])"
   ],
   "id": "ad9c78ee-4974-4b36-9fb2-8d610da834c9"
  },
  {
   "cell_type": "markdown",
   "metadata": {},
   "source": [
    "------------------------------------------------------------------------\n",
    "\n",
    "We fine-tune the model using the `train_vit_model` function and using the `Flowers102` dataset loader as the input arguement."
   ],
   "id": "5be11744-a73a-408d-b52b-18a5605e7149"
  },
  {
   "cell_type": "code",
   "execution_count": null,
   "metadata": {},
   "outputs": [],
   "source": [
    "start_time = time.time()\n",
    "# Fine tune the model on Oxford Flowers-102\n",
    "train_acc_oxford_flowers, test_acc_oxford_flowers = train_vit_model(loaders=loader, epochs=14)\n",
    "# Calculate and print cell execution time\n",
    "end_time = time.time()\n",
    "print_time(start_time, end_time)"
   ],
   "id": "a1f64269-73d3-4980-a058-78ac824b319d"
  },
  {
   "cell_type": "markdown",
   "metadata": {},
   "source": [
    "------------------------------------------------------------------------\n",
    "\n",
    "Now we save the fine-tuning results in the `runs` dictionary."
   ],
   "id": "4254d04a-8aaa-42bb-8832-ce3c7a366e38"
  },
  {
   "cell_type": "code",
   "execution_count": null,
   "metadata": {},
   "outputs": [],
   "source": [
    "# Create dictionary runs\n",
    "runs = {}\n",
    "\n",
    "# Check if the file exists\n",
    "if os.path.exists(\"experiments/vit.json\"):\n",
    "    # Open the file in read mode\n",
    "    with open(\"experiments/vit.json\", \"r\") as f:\n",
    "        # Load the data from the file to runs\n",
    "        runs = json.load(f)\n",
    "\n",
    "# Add the results to a dictionary\n",
    "runs[\"oxford_flowers\"] = test_acc_oxford_flowers[-1]"
   ],
   "id": "83b43c9d-a929-424d-bf35-73ea73b1fe3e"
  },
  {
   "cell_type": "code",
   "execution_count": null,
   "metadata": {},
   "outputs": [],
   "source": [
    "# Save the outputs in a json file\n",
    "with open(\"experiments/vit.json\", \"w\") as f:\n",
    "    json.dump(runs, f)"
   ],
   "id": "260e57b1-e3cc-4770-8ab0-d5f7af6770ad"
  },
  {
   "cell_type": "markdown",
   "metadata": {},
   "source": [
    "------------------------------------------------------------------------\n",
    "\n",
    "Now that we are done with both the ResNet and the ViT model, we can create the results table back at the Experiments notebook."
   ],
   "id": "07fc4c1c-2602-4af3-a072-cf313b7d5129"
  }
 ],
 "nbformat": 4,
 "nbformat_minor": 5,
 "metadata": {}
}
