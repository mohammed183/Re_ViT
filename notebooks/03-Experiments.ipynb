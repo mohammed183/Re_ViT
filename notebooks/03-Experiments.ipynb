{
 "cells": [
  {
   "cell_type": "markdown",
   "metadata": {},
   "source": [
    "# Experiments\n",
    "\n",
    "In this section, we will attempt to verify the qualitative and quantitative aspects of each claim. We will indicate which claims cannot be verified due to the lack of the material published by the authors. We will mainly use pretrained models published to verify these claims. Trying to reproduce such results without pretrained models can be very expensive as the computational requirement is huge.\n",
    "\n",
    "------------------------------------------------------------------------"
   ],
   "id": "e3e2a8ce-5eda-42d8-94fc-41639287fdc0"
  },
  {
   "cell_type": "markdown",
   "metadata": {},
   "source": [
    "## Experiment 1:\n",
    "\n",
    "In this experiment we want to reproduce the claim: *“Vision Transformer outperforms state of the art CNNs on various classification tasks after pretraining on large datasets”* by using the only available pretrained model in the table in that claim and compare it to the other model that are pretrained on the **ImageNet-21k** unlike in the original paper where the other models were trained on the **JFT-300M** private dataset.\n",
    "\n",
    "------------------------------------------------------------------------"
   ],
   "id": "baed3b1c-b16d-4b79-b5ad-934d69f772e3"
  },
  {
   "cell_type": "markdown",
   "metadata": {},
   "source": [
    "This Experiment is split into two notebooks:\n",
    "\n",
    "-   [ResNet notebook](ResNet.ipynb): This notebook allows us to evaluate the performance of different ResNet models on various image classification datasets. The model names can be changed to try different models. The models in this notebook are pretrained on the ImageNet-21k dataset and are ready for fine-tuning.\n",
    "\n",
    "-   [ViT notebook](ViT.ipynb): This notebook allows us to evaluate the performance of different Vision Transformer (ViT) models on various image classification datasets. The model names can be changed to try different models. The models in this notebook are pretrained on the ImageNet-21k dataset and are ready for fine-tuning.\n",
    "\n",
    "------------------------------------------------------------------------"
   ],
   "id": "2f495b83-7533-48f7-bee9-9b86ec215a67"
  },
  {
   "cell_type": "markdown",
   "metadata": {},
   "source": [
    "After running both notebooks, now we can reproduce the table using the results stored in `resnet.json` and `vit.json`"
   ],
   "id": "873a847a-171f-427a-9740-faaaa19fb1f1"
  },
  {
   "cell_type": "code",
   "execution_count": null,
   "metadata": {},
   "outputs": [],
   "source": [
    "# Load the data from both json files and create a table with results\n",
    "import pandas as pd\n",
    "import json\n",
    "\n",
    "# Read from json file\n",
    "with open(\"experiments/resnet.json\", \"r\") as f:\n",
    "    resnet = json.load(f)\n",
    "# Read from json file\n",
    "with open(\"experiments/vit.json\", \"r\") as f:\n",
    "    vit = json.load(f)\n",
    "\n",
    "overall={}\n",
    "\n",
    "# Merge resnet and vit dictionaries into one overall dictionary\n",
    "overall['ResNet152x4'] = resnet\n",
    "overall['ViT-L/16'] = vit\n",
    "\n",
    "# Create a dataframe with the result to be in a table form\n",
    "df = pd.DataFrame.from_dict(overall).T\n",
    "\n",
    "# Display the dataframe\n",
    "display(df.style.set_properties(**{'text-align': 'center', 'border': '1px solid black', 'padding': '5px'}))"
   ],
   "id": "3690eb9c-f2db-4397-aba1-a40004c63216"
  },
  {
   "cell_type": "markdown",
   "metadata": {},
   "source": [
    "------------------------------------------------------------------------"
   ],
   "id": "9e0fd967-a334-4da0-8433-d6859da2bc06"
  },
  {
   "cell_type": "markdown",
   "metadata": {},
   "source": [
    "# Optional\n",
    "\n",
    "At this point we acheived our goals that was introduced in the first section of this material. The following experiments will verify the rest of the claims introduced in the claims section. You can try to validate these claims by following the steps described. However, it will not be as easy as the previous part as you will need to solve some of the challenges that was explained in the previous experiment yourself this time (eg. finding the learning rate, deciding which models to use, etc)."
   ],
   "id": "f32ad33b-9041-4fb5-89fe-cfa96ce7e949"
  },
  {
   "cell_type": "markdown",
   "metadata": {},
   "source": [
    "------------------------------------------------------------------------"
   ],
   "id": "9c468ec7-45e9-41f4-a4a7-ecbf3472cfe3"
  },
  {
   "cell_type": "markdown",
   "metadata": {},
   "source": [
    "## Experiment 2:\n",
    "\n",
    "In this experiment we want to verify the claim that states that *“The performance of the Vision Transformer on the classification task after fine tuning improves with the increase of the pretraining dataset size”* by using the available pretrained model as before. For this claim the authors compare the performance after pretraining on three datasets: **ImageNet-1k**, **ImageNet-21k** and **JFT-300M**. However, we cannot reproduce the results related to the **JFT-300M** dataset as before, so we will only use the model pretrained on the other two datasets. We mainly compare the results on the ImageNet-1k dataset but we can also extend the experiment and fine tune the model on the other datasets but this can be computationly expensive.\n",
    "\n",
    "------------------------------------------------------------------------"
   ],
   "id": "e0d07ec8-7b39-4ca2-8ab6-27dc7c2ba3b6"
  },
  {
   "cell_type": "markdown",
   "metadata": {},
   "source": [
    "The models available for this experiment are:\n",
    "\n",
    "|    Model    | Pretrained ImageNet | pretrained ImageNet-21 |\n",
    "|:-----------:|:-------------------:|:----------------------:|\n",
    "| ResNet50x1  |         Yes         |          Yes           |\n",
    "| ResNet101x1 |         Yes         |          Yes           |\n",
    "| ResNet152x2 |         Yes         |          Yes           |\n",
    "| ResNet152x4 |         Yes         |          Yes           |\n",
    "|  ViT-B/32   |      Yes (SAM)      |          Yes           |\n",
    "|  ViT-B/16   |      Yes (SAM)      |          Yes           |\n",
    "|  ViT-L/32   |      Yes (SAM)      |          Yes           |\n",
    "|  ViT-L/16   |      Yes (SAM)      |          Yes           |\n",
    "\n",
    "We already have the results for the **ResNet-152x4** and **ViT-L/16** pretrained on the **ImageNet-21k**.\n",
    "\n",
    "Notice that the vision transformers pretrained on the **ImageNet-1k** use a different optimizer than described in the paper which will prevent us from validating the quantitative results of this claim. Moreover, these models are only compatible with the **JAX** framework, not with **PyTorch**. Therefore, we need to use **JAX** to load and use these models. To test the qualitative claim, we can choose any two models per dataset and compare their performance. \\*\\*\\*"
   ],
   "id": "6949d875-6dca-415b-8648-cc44e56d692a"
  },
  {
   "cell_type": "markdown",
   "metadata": {},
   "source": [
    "In this Experiment we will us the following three notebooks:\n",
    "\n",
    "-   [ResNet notebook](ResNet.ipynb): Thi is the same notebook from the previous experiment: We can change the model name by modifying the `model_name` variable in the code. The available models are listed in this [link](https://console.cloud.google.com/storage/browser/bit_models;tab=objects?prefix=&forceOnObjectsSortingFiltering=false). The models with ‘M’ in their names are pretrained on **ImageNet-21k**, while the ones with ‘S’ are pretrained on **ImageNet-1k**. The models with both ‘M’ and ‘ILSVRC2012’ are finetuned on **ImageNet-1k**, while the others require finetuning.\n",
    "\n",
    "-   [ViT notebook](ViT.ipynb): This is the same notebook from the previous experiment. We can change the model name by modifying the `model_name` variable in the code. The available models are listed in this [link](https://huggingface.co/models?sort=trending&search=google%2Fvit-). We need to use the (384x384) models for **ImageNet-1k** and the (224x224) models for the other datasets.\n",
    "\n",
    "-   [ViT-JAX notebook](): This notebook allows us to evaluate the performance of different Vision Transformer (ViT) models on various image classification datasets using the JAX framework instead of PyTorch. We can change the model name by modifying the `model_name` variable in the code. The available models are listed in this [link](https://console.cloud.google.com/storage/browser/vit_models/sam?authuser=0&pageState=(%22StorageObjectListTable%22:(%22f%22:%22%255B%255D%22))&prefix=&forceOnObjectsSortingFiltering=false).\n",
    "\n",
    "We will use these notebooks to obtain the results for each model and dataset combination and store them in JSON files. **Note: We need to be careful when naming the JSON files to avoid overwriting previous results.**\n",
    "\n",
    "------------------------------------------------------------------------"
   ],
   "id": "b6e9e791-15a0-43c4-b776-5ca589dc5732"
  },
  {
   "cell_type": "markdown",
   "metadata": {},
   "source": [
    "After finishing the previous part, run the following cell to reproduce the table and compare it to the one in the claims section."
   ],
   "id": "a6f0ce11-5109-4547-aeec-9c100ff4403b"
  },
  {
   "cell_type": "code",
   "execution_count": null,
   "metadata": {},
   "outputs": [],
   "source": [
    "# Array to store name of files used to create table\n",
    "runs = {}\n",
    "overall = {}\n",
    "file_names = [] # Add the names if the new files here\n",
    "\n",
    "# Loop over files\n",
    "for name in file_names:\n",
    "    # Read from json file\n",
    "    with open(f\"experiments/{name}.json\", \"r\") as f:\n",
    "        runs = json.load(f)\n",
    "    # Merge dictionary\n",
    "    overall[name] = runs\n",
    "\n",
    "# Create a dataframe with the result to be in a table form\n",
    "df = pd.DataFrame.from_dict(overall).T\n",
    "\n",
    "# Display the dataframe\n",
    "display(df.style.set_properties(**{'text-align': 'center', 'border': '1px solid black', 'padding': '5px'}))"
   ],
   "id": "9203ff77-d46c-4731-af70-d34198038fa1"
  },
  {
   "cell_type": "markdown",
   "metadata": {},
   "source": [
    "------------------------------------------------------------------------"
   ],
   "id": "85066f4f-362b-4490-84d6-506209b2b4d3"
  },
  {
   "cell_type": "markdown",
   "metadata": {},
   "source": [
    "## Experiment 3:\n",
    "\n",
    "In this experiment we want to verify the claim that states that “The hybrid Vision Transformer can perform better than both baseline and Vision Transformer after fine tuning it to different classification task” by using the available pretrained model as before. The models used by the authors are not available but there other models available that we can use.\n",
    "\n",
    "------------------------------------------------------------------------"
   ],
   "id": "d40a256b-e5b0-408b-b9bd-7cc2b52b340b"
  },
  {
   "cell_type": "markdown",
   "metadata": {},
   "source": [
    "The models available for this experiment are:\n",
    "\n",
    "|     Model      | Pretrained ImageNet | pretrained ImageNet-21 |\n",
    "|:--------------:|:-------------------:|:----------------------:|\n",
    "| R50x1+ViT-B/16 |         Yes         |          Yes           |\n",
    "| R50x1+ViT-L/32 |         No          |          Yes           |\n",
    "| R50x1+ViT-L/16 |         No          |          Yes           |\n",
    "\n",
    "We can use any of these model and compare it to the results from the previous experiments to validate the qualitative version of the claim. However, we cannot validata the quantitative results as the models pretrained on the **JFT-300M** dataset are not available. \\*\\*\\*"
   ],
   "id": "a85add88-f356-44e1-abf2-67e34de347bb"
  },
  {
   "cell_type": "markdown",
   "metadata": {},
   "source": [
    "The notebooks used for this experiment:\n",
    "\n",
    "-   [ViT-JAX notebook](): This is the same notebook fromt the previous experiment. We can change the model name by modifying the `model_name` variable in the code. The available models are listed in this [link](https://console.cloud.google.com/storage/browser/vit_models?authuser=0&pageState=(%22StorageObjectListTable%22:(%22f%22:%22%255B%255D%22))&prefix=&forceOnObjectsSortingFiltering=false). The model pretrained on the **ImageNet-21k** only without fine-tuning are available in the `imagenet21k/` folder, while the fine-tuned models on the **ImageNet-1k** are available in the `imagenet21k+imagenet2012/`folder.\n",
    "\n",
    "**Note: We need to be careful when naming the JSON files to avoid overwriting previous results.**\n",
    "\n",
    "------------------------------------------------------------------------"
   ],
   "id": "9ee2b330-b263-4159-a51f-08c55c856185"
  },
  {
   "cell_type": "markdown",
   "metadata": {},
   "source": [
    "After finishing the previous part, run the following cell to reproduce the table and compare it to the one in the claims section."
   ],
   "id": "1064b327-af33-4282-8bec-39f4d29eebff"
  },
  {
   "cell_type": "code",
   "execution_count": null,
   "metadata": {},
   "outputs": [],
   "source": [
    "# Array to store name of files used to create table\n",
    "runs = {}\n",
    "overall = {}\n",
    "file_names = [] # Add the names of the new files here\n",
    "\n",
    "# Loop over files\n",
    "for name in file_names:\n",
    "    # Read from json file\n",
    "    with open(f\"experiments/{name}.json\", \"r\") as f:\n",
    "        runs = json.load(f)\n",
    "    # Merge dictionary\n",
    "    overall[name] = runs\n",
    "\n",
    "# Create a dataframe with the result to be in a table form\n",
    "df = pd.DataFrame.from_dict(overall).T\n",
    "\n",
    "# Display the dataframe\n",
    "display(df.style.set_properties(**{'text-align': 'center', 'border': '1px solid black', 'padding': '5px'}))"
   ],
   "id": "f75910f8-157b-454b-9990-84c7ade96846"
  }
 ],
 "nbformat": 4,
 "nbformat_minor": 5,
 "metadata": {}
}
