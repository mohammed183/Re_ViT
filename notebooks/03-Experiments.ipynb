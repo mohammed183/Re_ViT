{
 "cells": [
  {
   "cell_type": "markdown",
   "metadata": {},
   "source": [
    "# Experiments\n",
    "\n",
    "In this section, we will attempt to verify the qualitative and quantitative aspects of each claim. We will indicate which claims cannot be verified due to the lack of the material published by the authors. We will mainly use pretrained models published to verify these claims. Trying to reproduce such results without pretrained models can be very expensive as the computational requirement is huge.\n",
    "\n",
    "------------------------------------------------------------------------"
   ],
   "id": "bbe3dfb0-5113-450c-9567-794e93478cc4"
  },
  {
   "cell_type": "markdown",
   "metadata": {},
   "source": [
    "Before we dive into the experiments, let’s briefly discuss some of the common challenges that we will encounter in each of them. We will elaborate on these challenges later in the corresponding notebooks, but for now, here are some of the main issues that you should be aware of:\n",
    "\n",
    "-   The models are **very large and memory-intensive**, requiring a GPU with at least 16GB of RAM for the ViT models and at least 24GB of RAM for the ResNet models.\n",
    "-   The authors used a **very large batch size (512) and a huge number of steps**, which can be very costly to reproduce.\n",
    "-   The resolutions reported in the paper are **not consistent with the ones provided in the code**.\n",
    "-   The final fine-tuning learning rate for each dataset is **not reported in the paper**, but only the values used for grid search are given.\n",
    "-   The learning rate scheduler used in the authors’ code is **not exactly as described in the paper**.\n",
    "\n",
    "The following is a subset of table 4 from the paper which includes some of the values mentioned above:\n",
    "\n",
    "|      Dataset       | Steps  |          Base LR           |\n",
    "|:------------------:|:------:|:--------------------------:|\n",
    "|      ImageNet      | 20 000 | {0.003, 0.01, 0.03, 0.06}  |\n",
    "|      CIFAR100      | 10 000 | {0.001, 0.003, 0.01, 0.03} |\n",
    "|      CIFAR10       | 10 000 | {0.001, 0.003, 0.01, 0.03} |\n",
    "|  Oxford-IIIT Pets  |  500   | {0.001, 0.003, 0.01, 0.03} |\n",
    "| Oxford Flowers-102 |  500   | {0.001, 0.003, 0.01, 0.03} |\n",
    "\n",
    "------------------------------------------------------------------------"
   ],
   "id": "86f7e6d7-69ac-41b0-971b-7fa83d52893f"
  },
  {
   "cell_type": "markdown",
   "metadata": {},
   "source": [
    "Before starting any of the experiments, we need to download the **ImageNet-1k** validation data to be able to verify the results on the **ImageNet-1k** dataset as it is *not available* in `torchvision.datasets`.\n",
    "\n",
    "To access the dataset, you will need a **Hugging Face** account with an access token. You can obtain an access token by following this [tutorial](https://huggingface.co/docs/hub/security-tokens). Once you have an access token, visit the [dataset page](https://huggingface.co/datasets/imagenet-1k), read and accept the terms and conditions, and then run the following cells. Please note that the process may take 10 or more minutes to complete, depending on your internet connection.\n",
    "\n",
    "**🛑 To avoid getting errors, wait for each cell to finish before running the next cell**"
   ],
   "id": "09797c4a-5b7e-446a-9abf-8a0253fde7a5"
  },
  {
   "cell_type": "code",
   "execution_count": null,
   "metadata": {},
   "outputs": [],
   "source": [
    "# Login to hugging face using the token you created\n",
    "from huggingface_hub import login\n",
    "login()"
   ],
   "id": "1976163d-2744-45b4-9967-200dafb1e181"
  },
  {
   "cell_type": "code",
   "execution_count": null,
   "metadata": {},
   "outputs": [],
   "source": [
    "# Download the dataset from hugging face\n",
    "from huggingface_hub import hf_hub_download\n",
    "hf_hub_download(repo_id=\"imagenet-1k\", filename=\"data/val_images.tar.gz\", repo_type=\"dataset\")"
   ],
   "id": "4d584961-6a26-4c29-9c7f-8c268b188463"
  },
  {
   "cell_type": "markdown",
   "metadata": {},
   "source": [
    "The output of the previous cell contains a path. Please copy this path and paste it into the `path` variable in the next cell which will prepare the validation data to be used."
   ],
   "id": "5645ea6d-c9ae-4a4d-987b-42293c7a4831"
  },
  {
   "cell_type": "code",
   "execution_count": null,
   "metadata": {},
   "outputs": [],
   "source": [
    "# Path to dataset file\n",
    "path = ''\n",
    "\n",
    "# Move the path to current directory\n",
    "!cp \"$path\" val_images.tar.gz"
   ],
   "id": "8bb0ee32-44d1-4255-b867-d57dcb873a63"
  },
  {
   "cell_type": "code",
   "execution_count": null,
   "metadata": {},
   "outputs": [],
   "source": [
    "# Create the data/imagenet/val directory and extract the contents of val_images.tar.gz into it\n",
    "!mkdir -p data/imagenet/val && tar -xzf val_images.tar.gz -C data/imagenet/val"
   ],
   "id": "30f7391e-ceae-49cf-bde4-2e9cbc624550"
  },
  {
   "cell_type": "code",
   "execution_count": null,
   "metadata": {},
   "outputs": [],
   "source": [
    "# Download and run the valprep.sh script from the mohammed183/re_vit repository\n",
    "!cd data/imagenet/val && wget -qO- https://raw.githubusercontent.com/mohammed183/re_vit/main/imagenet_prep.sh | bash"
   ],
   "id": "a8b55fbf-67b0-48b9-9522-5c16213a68bb"
  },
  {
   "cell_type": "code",
   "execution_count": null,
   "metadata": {},
   "outputs": [],
   "source": [
    "# Remove val_images.tar.gz, you can remove from path using rm \"$path\"\n",
    "!rm val_images.tar.gz"
   ],
   "id": "25f83f1d-5cf4-4f0b-981d-2c259c5de194"
  },
  {
   "cell_type": "markdown",
   "metadata": {},
   "source": [
    "------------------------------------------------------------------------"
   ],
   "id": "43e73755-7fac-4a5d-a9d1-ee0f3c260db8"
  },
  {
   "cell_type": "markdown",
   "metadata": {},
   "source": [
    "## Primary Experiment:\n",
    "\n",
    "In this experiment we want to reproduce the claim: *“Vision Transformer outperforms state of the art CNNs on various classification tasks after pretraining on large datasets”* by using the only available pretrained model in the table in that claim and compare it to the other model that are pretrained on the **ImageNet-21k** unlike in the original paper where the other models were pretrained on the **JFT-300M** private dataset.\n",
    "\n",
    "------------------------------------------------------------------------"
   ],
   "id": "3b587399-4b4f-4d0b-8f42-2eb09b369671"
  },
  {
   "cell_type": "markdown",
   "metadata": {},
   "source": [
    "This experiment is divided into two notebooks, which you can use to evaluate the model’s performance on a specific dataset by running the corresponding sections in both notebooks. After running these notebooks, you can create the table from the primary claim using the cell below:\n",
    "\n",
    "-   [ResNet notebook](03.1-ResNet.ipynb): This notebook allows us to evaluate the performance of different **ResNet** models on various image classification datasets. The `model name` can be changed to try different models. The models in this notebook used for this experiment are pretrained on the **ImageNet-21k** dataset and are ready for fine-tuning.\n",
    "\n",
    "-   [ViT notebook](03.2-ViT.ipynb): This notebook allows us to evaluate the performance of different **Vision Transformer (ViT)** models on various image classification datasets. The `model name` can be changed to try different models. The models in this notebook are pretrained on the **ImageNet-21k** dataset and are ready for fine-tuning.\n",
    "\n",
    "------------------------------------------------------------------------"
   ],
   "id": "77eae206-33b4-4822-b642-36fd310900fb"
  },
  {
   "cell_type": "markdown",
   "metadata": {},
   "source": [
    "After running both notebooks, now we can reproduce the table using the results stored in `resnet.json` and `vit.json`"
   ],
   "id": "60fb7948-ee53-4d9e-8a17-fa5c05344ded"
  },
  {
   "cell_type": "code",
   "execution_count": null,
   "metadata": {},
   "outputs": [],
   "source": [
    "# Load the data from both json files and create a table with results\n",
    "import pandas as pd\n",
    "import json\n",
    "\n",
    "# Read from json file\n",
    "with open(\"experiments/resnet.json\", \"r\") as f:\n",
    "    resnet = json.load(f)\n",
    "# Read from json file\n",
    "with open(\"experiments/vit.json\", \"r\") as f:\n",
    "    vit = json.load(f)\n",
    "\n",
    "overall={}\n",
    "\n",
    "# Merge resnet and vit dictionaries into one overall dictionary\n",
    "overall['ViT-L/16'] = vit\n",
    "overall['ResNet152x4'] = resnet\n",
    "\n",
    "# Calculate the difference between the results of the two models in the dictionary\n",
    "overall['Differnce'] = {}\n",
    "for key in resnet.keys():\n",
    "    overall['Differnce'][key] = overall['ViT-L/16'][key] - overall['ResNet152x4'][key]\n",
    "\n",
    "# Create a dataframe with the result to be in a table form\n",
    "df = pd.DataFrame.from_dict(overall).T\n",
    "\n",
    "# Display the dataframe\n",
    "display(df.style.set_properties(**{'text-align': 'center', 'border': '2px solid black', 'padding': '10px',\\\n",
    "                                   'font-size': '15px'}))"
   ],
   "id": "2950eec9-bc58-4580-bcb9-e958f4cc679b"
  },
  {
   "cell_type": "markdown",
   "metadata": {},
   "source": [
    "Create a similar table like the one generated by the previous cell for the models pre-trained on the **JFT-300M** dataset using the results from the paper and compare it to our results. Make sure to include a difference row between the two models.\n",
    "\n",
    "**Do you think we were able to verify the qualitative version of the claim? 🤔**\n",
    "\n",
    "------------------------------------------------------------------------"
   ],
   "id": "af2b4bbe-709e-4016-9ff4-e971a5450899"
  },
  {
   "cell_type": "markdown",
   "metadata": {},
   "source": [
    "After running both notebooks, now we can reproduce the table using the results stored in `resnet.json` and `vit.json`"
   ],
   "id": "7d6f4671-ff2e-48c5-8ed4-50cf9d7b20c9"
  },
  {
   "cell_type": "code",
   "execution_count": null,
   "metadata": {},
   "outputs": [],
   "source": [
    "# Load the data from both json files and create a table with results\n",
    "import pandas as pd\n",
    "import json\n",
    "\n",
    "# Read from json file\n",
    "with open(\"experiments/resnet_time.json\", \"r\") as f:\n",
    "    resnet = json.load(f)\n",
    "# Read from json file\n",
    "with open(\"experiments/vit_time.json\", \"r\") as f:\n",
    "    vit = json.load(f)\n",
    "\n",
    "overall={}\n",
    "\n",
    "# Merge resnet and vit dictionaries into one overall dictionary\n",
    "overall['ViT-L/16'] = vit\n",
    "overall['ResNet152x4'] = resnet\n",
    "\n",
    "# Create a dataframe with the result to be in a table form\n",
    "df = pd.DataFrame.from_dict(overall).T\n",
    "\n",
    "# Display the dataframe\n",
    "display(df.style.set_properties(**{'text-align': 'center', 'border': '2px solid black', 'padding': '10px',\\\n",
    "                                   'font-size': '14px'}))"
   ],
   "id": "81c607f9-bb3f-47b6-895f-448d937591c7"
  },
  {
   "cell_type": "markdown",
   "metadata": {},
   "source": [
    "**Can you use the information from the table at the beginning of this notebook and the results from the generated table to calculate the time required to perform a grid search on the learning rates, as described in the paper? 🤓**\n",
    "\n",
    "------------------------------------------------------------------------"
   ],
   "id": "7abc37c5-7f5b-4478-866c-66713c4f2b90"
  },
  {
   "cell_type": "markdown",
   "metadata": {},
   "source": [
    "### Things to try: 🧪\n",
    "\n",
    "We have experimented with some fine-tuning hyperparameters that yielded good results, but there is still room for improvement in the performance of the models. For example, we can explore:\n",
    "\n",
    "-   Using **different learning rates** to determine the sensitivity of the models to this hyperparameter. A learning rate that is too high or too low can affect the convergence and accuracy of the models.\n",
    "\n",
    "-   Trying different **image resolutions** to see if this improves the results.\n",
    "\n",
    "-   Changing the **number of epochs** to determine its impact on the final results. Altering the number of epochs may lead to better results, but it also increases the risk of overfitting or underfitting.\n",
    "\n",
    "-   Checking the **sensitivity of the model to the random seed** by changing it. The random seed can influence the initialization of the weights and the shuffling of the data, and different seeds may result in different outcomes for the same model and dataset.\n",
    "\n",
    "**🛑 Please note that trying these options will take some time. You may want to try them only for the Oxford datasets, which require the least amount of time.**\n",
    "\n",
    "------------------------------------------------------------------------"
   ],
   "id": "4786c924-2b55-4360-ab30-448649c331cb"
  }
 ],
 "nbformat": 4,
 "nbformat_minor": 5,
 "metadata": {}
}
