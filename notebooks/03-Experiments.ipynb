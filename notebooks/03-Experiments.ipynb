{
 "cells": [
  {
   "cell_type": "markdown",
   "metadata": {},
   "source": [
    "# Experiments\n",
    "\n",
    "In this section, we will attempt to verify the qualitative and quantitative aspects of each claim. We will indicate which claims cannot be verified due to the lack of the material published by the authors. We will mainly use pretrained models published to verify these claims. Trying to reproduce such results without pretrained models can be very expensive as the computational requirement is huge.\n",
    "\n",
    "------------------------------------------------------------------------"
   ],
   "id": "12b99a25-ddcf-4ff2-978e-faf87d3b4127"
  },
  {
   "cell_type": "markdown",
   "metadata": {},
   "source": [
    "Before we dive into the experiments, let’s briefly discuss some of the common challenges that we will encounter in each of them. We will elaborate on these challenges later in the corresponding notebooks, but for now, here are some of the main issues that you should be aware of:\n",
    "\n",
    "-   The models are **very large and memory-intensive**, requiring a GPU with at least 16GB of RAM for the ViT models and at least 24GB of RAM for the ResNet models.\n",
    "-   The authors used a **very large batch size (512) and a huge number of steps**, which can be very costly to reproduce.\n",
    "-   The resolutions reported in the paper are **not consistent with the ones provided in the code**.\n",
    "-   The final fine-tuning learning rate for each dataset is **not reported in the paper**, but only the values used for grid search are given.\n",
    "-   The learning rate scheduler used in the authors’ code is **not exactly as described in the paper**.\n",
    "\n",
    "The following is a subset of table 4 from the paper which includes some of the values mentioned above:\n",
    "\n",
    "|      Dataset       | Steps  |          Base LR           |\n",
    "|:------------------:|:------:|:--------------------------:|\n",
    "|      ImageNet      | 20 000 | {0.003, 0.01, 0.03, 0.06}  |\n",
    "|      CIFAR100      | 10 000 | {0.001, 0.003, 0.01, 0.03} |\n",
    "|      CIFAR10       | 10 000 | {0.001, 0.003, 0.01, 0.03} |\n",
    "|  Oxford-IIIT Pets  |  500   | {0.001, 0.003, 0.01, 0.03} |\n",
    "| Oxford Flowers-102 |  500   | {0.001, 0.003, 0.01, 0.03} |\n",
    "\n",
    "------------------------------------------------------------------------"
   ],
   "id": "7cd29cd8-8736-49d9-b10f-ca3e8635dbc5"
  },
  {
   "cell_type": "markdown",
   "metadata": {},
   "source": [
    "Before starting any of the experiments, we need to download the **ImageNet-1k** validation data to be able to verify the results on the **ImageNet-1k** dataset as it is *not available* in `torchvision.datasets`.\n",
    "\n",
    "To access the dataset, you will need a **Hugging Face** account with an access token. You can obtain an access token by following this [tutorial](https://huggingface.co/docs/hub/security-tokens). Once you have an access token, visit the [dataset page](https://huggingface.co/datasets/imagenet-1k), read and accept the terms and conditions, and then run the following cells. Please note that the process may take 10 or more minutes to complete, depending on your internet connection.\n",
    "\n",
    "**🛑 To avoid getting errors, wait for each cell to finish before running the next cell**"
   ],
   "id": "247321fb-355c-44c3-8c2b-96e0ea22ab21"
  },
  {
   "cell_type": "code",
   "execution_count": null,
   "metadata": {},
   "outputs": [],
   "source": [
    "# Login to hugging face using the token you created\n",
    "from huggingface_hub import login\n",
    "login()\n",
    "\n",
    "\"\"\"\n",
    "If you have Troubles running this cell, you can run this in the terminal\n",
    "\n",
    "$ pip install huggingface_hub[cli]\n",
    "\n",
    "$ huggingface-cli login\n",
    "\n",
    "It will ask for your token, enter it and press enter.\n",
    "Once you get login successful you can move on to the next cell.\n",
    "\"\"\""
   ],
   "id": "dd757c5e-6a61-4e39-b99a-14e2fc1ee5d8"
  },
  {
   "cell_type": "code",
   "execution_count": null,
   "metadata": {},
   "outputs": [],
   "source": [
    "# Download the dataset from hugging face\n",
    "from huggingface_hub import hf_hub_download\n",
    "hf_hub_download(repo_id=\"imagenet-1k\", filename=\"data/val_images.tar.gz\", repo_type=\"dataset\")"
   ],
   "id": "2c07bb0b-e2bb-474c-9c4a-fd3cadae9a87"
  },
  {
   "cell_type": "markdown",
   "metadata": {},
   "source": [
    "The output of the previous cell contains a path. Please copy this path and paste it into the `path` variable in the next cell which will prepare the validation data to be used."
   ],
   "id": "b5aee72b-b6f1-45e2-8cf0-b9f7d7e00e67"
  },
  {
   "cell_type": "code",
   "execution_count": null,
   "metadata": {},
   "outputs": [],
   "source": [
    "# Path to dataset file\n",
    "path = ''\n",
    "\n",
    "# Move the path to current directory\n",
    "!cp \"$path\" val_images.tar.gz"
   ],
   "id": "373ffc16-6397-42f4-b9ce-a5222bd397b0"
  },
  {
   "cell_type": "code",
   "execution_count": null,
   "metadata": {},
   "outputs": [],
   "source": [
    "# Create the data/imagenet/val directory and extract the contents of val_images.tar.gz into it\n",
    "!mkdir -p data/imagenet/val && tar -xzf val_images.tar.gz -C data/imagenet/val"
   ],
   "id": "7b234eaf-6a52-4e1a-881e-1adf4e5fd727"
  },
  {
   "cell_type": "code",
   "execution_count": null,
   "metadata": {},
   "outputs": [],
   "source": [
    "# Download and run the valprep.sh script from the mohammed183/re_vit repository\n",
    "!cd data/imagenet/val && wget -qO- https://raw.githubusercontent.com/mohammed183/re_vit/main/imagenet_prep.sh | bash"
   ],
   "id": "6c86e5d9-32f3-45d6-987e-e657451aa18a"
  },
  {
   "cell_type": "code",
   "execution_count": null,
   "metadata": {},
   "outputs": [],
   "source": [
    "# Remove val_images.tar.gz, you can remove from path using rm \"$path\"\n",
    "!rm val_images.tar.gz"
   ],
   "id": "fe2752c0-b493-4bf3-aec3-f314718578ea"
  },
  {
   "cell_type": "markdown",
   "metadata": {},
   "source": [
    "------------------------------------------------------------------------"
   ],
   "id": "49249b74-8c48-4034-b085-4f3383e26693"
  },
  {
   "cell_type": "markdown",
   "metadata": {},
   "source": [
    "## Primary Experiment:\n",
    "\n",
    "In this experiment we want to reproduce the claim: *“Vision Transformer outperforms state of the art CNNs on various classification tasks after pretraining on large datasets”* by using the only available pretrained model in the table in that claim and compare it to the other model that are pretrained on the **ImageNet-21k** unlike in the original paper where the other models were pretrained on the **JFT-300M** private dataset.\n",
    "\n",
    "------------------------------------------------------------------------"
   ],
   "id": "8051a071-9717-4d6c-987c-6522310c3f87"
  },
  {
   "cell_type": "markdown",
   "metadata": {},
   "source": [
    "This experiment is divided into two notebooks, which you can use to evaluate the model’s performance on a specific dataset by running the corresponding sections in both notebooks. After running these notebooks, you can create the table from the primary claim using the cell below:\n",
    "\n",
    "-   [ResNet notebook](03.1-ResNet.ipynb): This notebook allows us to evaluate the performance of different **ResNet** models on various image classification datasets. The `model name` can be changed to try different models. The models in this notebook used for this experiment are pretrained on the **ImageNet-21k** dataset and are ready for fine-tuning.\n",
    "\n",
    "-   [ViT notebook](03.2-ViT.ipynb): This notebook allows us to evaluate the performance of different **Vision Transformer (ViT)** models on various image classification datasets. The `model name` can be changed to try different models. The models in this notebook are pretrained on the **ImageNet-21k** dataset and are ready for fine-tuning.\n",
    "\n",
    "**🛑 If running crashes while GPU is used you will to restart runtime to kill process and empty GPU**\n",
    "\n",
    "------------------------------------------------------------------------"
   ],
   "id": "c3b0531f-e558-49fe-b743-79f286bf2d2e"
  },
  {
   "cell_type": "markdown",
   "metadata": {},
   "source": [
    "After running both notebooks, now we can reproduce the table using the results stored in `resnet.json` and `vit.json`"
   ],
   "id": "6b52e415-9873-42df-b305-67a69bf74fe9"
  },
  {
   "cell_type": "code",
   "execution_count": null,
   "metadata": {},
   "outputs": [],
   "source": [
    "# Load the data from both json files and create a table with results\n",
    "import pandas as pd\n",
    "import json\n",
    "\n",
    "# Read from json file\n",
    "with open(\"experiments/resnet.json\", \"r\") as f:\n",
    "    resnet = json.load(f)\n",
    "# Read from json file\n",
    "with open(\"experiments/vit.json\", \"r\") as f:\n",
    "    vit = json.load(f)\n",
    "\n",
    "overall={}\n",
    "\n",
    "# Merge resnet and vit dictionaries into one overall dictionary\n",
    "overall['ViT-L/16'] = vit\n",
    "overall['ResNet152x4'] = resnet\n",
    "\n",
    "# Calculate the difference between the results of the two models in the dictionary\n",
    "overall['Differnce'] = {}\n",
    "for key in resnet.keys():\n",
    "    overall['Differnce'][key] = overall['ViT-L/16'][key] - overall['ResNet152x4'][key]\n",
    "\n",
    "# Create a dataframe with the result to be in a table form\n",
    "df = pd.DataFrame.from_dict(overall).T\n",
    "\n",
    "# Display the dataframe\n",
    "display(df.style.set_properties(**{'text-align': 'center', 'border': '2px solid black', 'padding': '10px',\\\n",
    "                                   'font-size': '15px'}))"
   ],
   "id": "7acabeb7-3088-4a78-8d93-b8927f681b6a"
  },
  {
   "cell_type": "markdown",
   "metadata": {},
   "source": [
    "Create a similar table like the one generated by the previous cell for the models pre-trained on the **JFT-300M** dataset using the results from the paper and compare it to our results. Make sure to include a difference row between the two models.\n",
    "\n",
    "**Do you think we were able to verify the qualitative version of the claim? 🤔**\n",
    "\n",
    "------------------------------------------------------------------------"
   ],
   "id": "eb47e604-3aa6-4e6e-b5fc-7f74548195ce"
  },
  {
   "cell_type": "markdown",
   "metadata": {},
   "source": [
    "After running both notebooks, now we can reproduce the table using the results stored in `resnet.json` and `vit.json`"
   ],
   "id": "c510954d-a2b9-4252-8fdc-0a10e8e7bf78"
  },
  {
   "cell_type": "code",
   "execution_count": null,
   "metadata": {},
   "outputs": [],
   "source": [
    "# Load the data from both json files and create a table with results\n",
    "import pandas as pd\n",
    "import json\n",
    "\n",
    "# Read from json file\n",
    "with open(\"experiments/resnet_time.json\", \"r\") as f:\n",
    "    resnet = json.load(f)\n",
    "# Read from json file\n",
    "with open(\"experiments/vit_time.json\", \"r\") as f:\n",
    "    vit = json.load(f)\n",
    "\n",
    "overall={}\n",
    "\n",
    "# Merge resnet and vit dictionaries into one overall dictionary\n",
    "overall['ViT-L/16'] = vit\n",
    "overall['ResNet152x4'] = resnet\n",
    "\n",
    "# Create a dataframe with the result to be in a table form\n",
    "df = pd.DataFrame.from_dict(overall).T\n",
    "\n",
    "# Display the dataframe\n",
    "display(df.style.set_properties(**{'text-align': 'center', 'border': '2px solid black', 'padding': '10px',\\\n",
    "                                   'font-size': '14px'}))"
   ],
   "id": "6c58ee88-54f4-4f62-a9c6-46682e0de5b1"
  },
  {
   "cell_type": "markdown",
   "metadata": {},
   "source": [
    "**Can you use the information from the table at the beginning of this notebook and the results from the generated table to calculate the time required to perform a grid search on the learning rates, as described in the paper? 🤓**\n",
    "\n",
    "------------------------------------------------------------------------"
   ],
   "id": "3f431b87-a80f-48fe-861d-2c56851e2e63"
  },
  {
   "cell_type": "markdown",
   "metadata": {},
   "source": [
    "### Things to try: 🧪\n",
    "\n",
    "We have experimented with some fine-tuning hyperparameters that yielded good results, but there is still room for improvement in the performance of the models. For example, we can explore:\n",
    "\n",
    "-   Using **different learning rates** to determine the sensitivity of the models to this hyperparameter. A learning rate that is too high or too low can affect the convergence and accuracy of the models.\n",
    "\n",
    "-   Trying different **image resolutions** to see if this improves the results.\n",
    "\n",
    "-   Changing the **number of epochs** to determine its impact on the final results. Altering the number of epochs may lead to better results, but it also increases the risk of overfitting or underfitting.\n",
    "\n",
    "-   Checking the **sensitivity of the model to the random seed** by changing it. The random seed can influence the initialization of the weights and the shuffling of the data, and different seeds may result in different outcomes for the same model and dataset.\n",
    "\n",
    "**🛑 Please note that trying these options will take some time. You may want to try them only for the Oxford datasets, which require the least amount of time.**\n",
    "\n",
    "------------------------------------------------------------------------"
   ],
   "id": "d13f0311-d659-4502-9781-68a2167e4ad8"
  }
 ],
 "nbformat": 4,
 "nbformat_minor": 5,
 "metadata": {}
}
