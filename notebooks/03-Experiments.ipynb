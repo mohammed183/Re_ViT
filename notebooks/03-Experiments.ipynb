{
 "cells": [
  {
   "cell_type": "markdown",
   "metadata": {},
   "source": [
    "# Experiments\n",
    "\n",
    "In this section, we will attempt to verify the qualitative and quantitative aspects of each claim. We will indicate which claims cannot be verified due to the lack of the material published by the authors. We will mainly use pretrained models published to verify these claims. Trying to reproduce such results without pretrained models can be very expensive as the computational requirement is huge.\n",
    "\n",
    "------------------------------------------------------------------------"
   ],
   "id": "19e3d0cd-648f-4c9a-ba17-a637ceaa7d94"
  },
  {
   "cell_type": "markdown",
   "metadata": {},
   "source": [
    "Before we dive into the experiments, let’s briefly discuss some of the common challenges that we will encounter in each of them. We will elaborate on these challenges later in the corresponding notebooks, but for now, here are some of the main issues that you should be aware of:\n",
    "\n",
    "-   The models are **very large and memory-intensive**, requiring a GPU with at least 16GB of RAM for the ViT models and at least 24GB of RAM for the ResNet models.\n",
    "-   The authors used a **very large batch size and a huge number of steps**, which can be very costly to reproduce.\n",
    "-   The resolutions reported in the paper are **not consistent with the ones provided in the code**.\n",
    "-   The fine-tuning learning rate for each dataset is **not reported in the paper**, but only the values used for grid search are given.\n",
    "-   The learning rate scheduler used in the code is **different from the one described in the paper**.\n",
    "\n",
    "------------------------------------------------------------------------"
   ],
   "id": "92179aa6-f4b5-4797-bbff-091b5f930645"
  },
  {
   "cell_type": "markdown",
   "metadata": {},
   "source": [
    "Before starting any of the experiments, we need to download the **ImageNet-1k** validation data to be able to verify the results on the **ImageNet-1k** dataset as it is *not available* in `torchvision.datasets`.\n",
    "\n",
    "------------------------------------------------------------------------"
   ],
   "id": "38bf5a9e-d788-423b-8216-cd4da44db433"
  },
  {
   "cell_type": "code",
   "execution_count": null,
   "metadata": {},
   "outputs": [],
   "source": [
    "# Download ImageNet-1k validation dataset\n",
    "!gdown 1xAO6pGcJqvTtbwcdlVWlcNSDjLkHZtnA\n",
    "!unzip val.zip"
   ],
   "id": "c243efcf-4ffa-4fc0-b04a-a34d7307e4d3"
  },
  {
   "cell_type": "markdown",
   "metadata": {},
   "source": [
    "------------------------------------------------------------------------"
   ],
   "id": "5f375a59-baf2-4832-aaa3-858552988a9e"
  },
  {
   "cell_type": "markdown",
   "metadata": {},
   "source": [
    "## Experiment 1:\n",
    "\n",
    "In this experiment we want to reproduce the claim: *“Vision Transformer outperforms state of the art CNNs on various classification tasks after pretraining on large datasets”* by using the only available pretrained model in the table in that claim and compare it to the other model that are pretrained on the **ImageNet-21k** unlike in the original paper where the other models were trained on the **JFT-300M** private dataset.\n",
    "\n",
    "------------------------------------------------------------------------"
   ],
   "id": "4e5e96eb-d3e2-4733-9d51-0c86bde934e6"
  },
  {
   "cell_type": "markdown",
   "metadata": {},
   "source": [
    "This Experiment is split into two notebooks:\n",
    "\n",
    "-   [ResNet notebook](ResNet.ipynb): This notebook allows us to evaluate the performance of different **ResNet** models on various image classification datasets. The `model name` can be changed to try different models. The models in this notebook are pretrained on the **ImageNet-21k** dataset and are ready for fine-tuning.\n",
    "\n",
    "-   [ViT notebook](ViT.ipynb): This notebook allows us to evaluate the performance of different **Vision Transformer (ViT)** models on various image classification datasets. The `model name` can be changed to try different models. The models in this notebook are pretrained on the **ImageNet-21k** dataset and are ready for fine-tuning.\n",
    "\n",
    "------------------------------------------------------------------------"
   ],
   "id": "b69ae641-c9dd-4264-b71d-995602c1e17e"
  },
  {
   "cell_type": "markdown",
   "metadata": {},
   "source": [
    "After running both notebooks, now we can reproduce the table using the results stored in `resnet.json` and `vit.json`"
   ],
   "id": "26a2c5c3-f7ec-4603-8d98-e279c096379b"
  },
  {
   "cell_type": "code",
   "execution_count": null,
   "metadata": {},
   "outputs": [],
   "source": [
    "# Load the data from both json files and create a table with results\n",
    "import pandas as pd\n",
    "import json\n",
    "\n",
    "# Read from json file\n",
    "with open(\"experiments/resnet.json\", \"r\") as f:\n",
    "    resnet = json.load(f)\n",
    "# Read from json file\n",
    "with open(\"experiments/vit.json\", \"r\") as f:\n",
    "    vit = json.load(f)\n",
    "\n",
    "overall={}\n",
    "\n",
    "# Merge resnet and vit dictionaries into one overall dictionary\n",
    "overall['ResNet152x4'] = resnet\n",
    "overall['ViT-L/16'] = vit\n",
    "\n",
    "# Create a dataframe with the result to be in a table form\n",
    "df = pd.DataFrame.from_dict(overall).T\n",
    "\n",
    "# Display the dataframe\n",
    "display(df.style.set_properties(**{'text-align': 'center', 'border': '2px solid black', 'padding': '10px',\\\n",
    "                                   'font-size': '15px'}))"
   ],
   "id": "75a9b062-16cf-482e-82b9-4c9ff4350a73"
  },
  {
   "cell_type": "markdown",
   "metadata": {},
   "source": [
    "------------------------------------------------------------------------"
   ],
   "id": "b346056f-57d2-4978-bf15-51353f304061"
  },
  {
   "cell_type": "markdown",
   "metadata": {},
   "source": [
    "### Things to try: 🧪\n",
    "\n",
    "We have experimented with some fine-tuning hyperparameters that yielded good results, but we can explore more and try to improve the performance of the models. For example, we can try:\n",
    "\n",
    "-   Using **different learning rates** to see how sensitive the models are to this hyperparameter. A learning rate that is too high or too low can affect the convergence and accuracy of the models.\n",
    "-   Changing the **number of epochs** to see how it affects the final results. More epochs might lead to better results, but also increase the risk of overfitting or underfitting.\n",
    "-   Checking the **sensitivity of the model to the random seed** by changing it. The random seed can influence the initialization of the weights, the shuffling of the data, and the dropout rate. Different seeds might result in different outcomes for the same model and dataset.\n",
    "\n",
    "The [**ConvNeXt**](https://arxiv.org/abs/2201.03545) paper was proposed after the **Vision Transformer (ViT)** model, which uses self-attention to process images. **ConvNeXt** combines the advantages of *ConvNets and self-supervised learning techniques*, such as masked autoencoders, to achieve better results than ViT. You can try to find the code and verify that these **CNNs** are actually able to get better results than ViT. You can use the [**ConvNeXt Code**](https://github.com/facebookresearch/ConvNeXt) from the official github.\n",
    "\n",
    "------------------------------------------------------------------------"
   ],
   "id": "71b62101-cc6a-40ff-95ea-a0e961cda9f9"
  },
  {
   "cell_type": "markdown",
   "metadata": {},
   "source": [
    "# Optional\n",
    "\n",
    "At this point we acheived our goals that was introduced in the first section of this material. The following experiments will verify the rest of the claims introduced in the claims section. You can try to validate these claims by following the steps described. However, it will not be as easy as the previous part as you will need to solve some of the challenges that was explained in the previous experiment yourself this time (eg. finding the learning rate, deciding which models to use, etc)."
   ],
   "id": "6a97d8f6-8473-417d-9008-4bf8f899533b"
  },
  {
   "cell_type": "markdown",
   "metadata": {},
   "source": [
    "------------------------------------------------------------------------"
   ],
   "id": "cb3717db-53b9-42a5-aea6-c0b5bee02470"
  },
  {
   "cell_type": "markdown",
   "metadata": {},
   "source": [
    "## Experiment 2:\n",
    "\n",
    "In this experiment we want to verify the claim that states that *“The performance of the Vision Transformer on the classification task after fine tuning improves with the increase of the pretraining dataset size”* by using the available pretrained model as before. For this claim the authors compare the performance after pretraining on three datasets: **ImageNet-1k**, **ImageNet-21k** and **JFT-300M**. However, we cannot reproduce the results related to the **JFT-300M** dataset as before, so we will only use the model pretrained on the other two datasets. We mainly compare the results on the ImageNet-1k dataset but we can also extend the experiment and fine tune the model on the other datasets but this can be computationly expensive.\n",
    "\n",
    "------------------------------------------------------------------------"
   ],
   "id": "410c7af4-17cd-41b3-9bea-acc497162bfd"
  },
  {
   "cell_type": "markdown",
   "metadata": {},
   "source": [
    "The models available for this experiment are:\n",
    "\n",
    "|    Model    | Pretrained ImageNet | pretrained ImageNet-21k |\n",
    "|:-----------:|:-------------------:|:-----------------------:|\n",
    "| ResNet50x1  |         Yes         |           Yes           |\n",
    "| ResNet101x1 |         Yes         |           Yes           |\n",
    "| ResNet152x2 |         Yes         |           Yes           |\n",
    "| ResNet152x4 |         Yes         |           Yes           |\n",
    "|  ViT-B/32   |      Yes (SAM)      |           Yes           |\n",
    "|  ViT-B/16   |      Yes (SAM)      |           Yes           |\n",
    "|  ViT-L/32   |      Yes (SAM)      |           Yes           |\n",
    "|  ViT-L/16   |      Yes (SAM)      |           Yes           |\n",
    "\n",
    "We already have the results for the **ResNet-152x4** and **ViT-L/16** pretrained on the **ImageNet-21k**.\n",
    "\n",
    "Notice that the vision transformers pretrained on the **ImageNet-1k** use a different optimizer than described in the paper which will prevent us from validating the quantitative results of this claim. Moreover, these models are only compatible with the **JAX** framework, not with **PyTorch**. Therefore, we need to use **JAX** to load and use these models. To test the qualitative claim, we can choose any two models per dataset and compare their performance. \\*\\*\\*"
   ],
   "id": "9a42eea0-fe29-4c2f-a6e7-d65ef0fc1f52"
  },
  {
   "cell_type": "markdown",
   "metadata": {},
   "source": [
    "In this Experiment we will us the following three notebooks:\n",
    "\n",
    "-   [ResNet notebook](ResNet.ipynb): Thi is the same notebook from the previous experiment: We can change the model name by modifying the `model_name` variable in the code. The available models are listed in this [link](https://console.cloud.google.com/storage/browser/bit_models;tab=objects?prefix=&forceOnObjectsSortingFiltering=false). The models with ‘M’ in their names are pretrained on **ImageNet-21k**, while the ones with ‘S’ are pretrained on **ImageNet-1k**. The models with both ‘M’ and ‘ILSVRC2012’ are finetuned on **ImageNet-1k**, while the others require finetuning.\n",
    "\n",
    "-   [ViT notebook](ViT.ipynb): This is the same notebook from the previous experiment. We can change the model name by modifying the `model_name` variable in the code. The available models are listed in this [link](https://huggingface.co/models?sort=trending&search=google%2Fvit-). We need to use the (384x384) models for **ImageNet-1k** and the (224x224) models for the other datasets.\n",
    "\n",
    "-   [ViT-JAX notebook](): This notebook allows us to evaluate the performance of different Vision Transformer (ViT) models on various image classification datasets using the JAX framework instead of PyTorch. We can change the model name by modifying the `model_name` variable in the code. The available models are listed in this [link](https://console.cloud.google.com/storage/browser/vit_models/sam?authuser=0&pageState=(%22StorageObjectListTable%22:(%22f%22:%22%255B%255D%22))&prefix=&forceOnObjectsSortingFiltering=false).\n",
    "\n",
    "We will use these notebooks to obtain the results for each model and dataset combination and store them in JSON files. **Note: We need to be careful when naming the JSON files to avoid overwriting previous results.**\n",
    "\n",
    "------------------------------------------------------------------------"
   ],
   "id": "1da89aa4-5529-4bcb-ae15-2f9f8a7067cc"
  },
  {
   "cell_type": "markdown",
   "metadata": {},
   "source": [
    "After finishing the previous part, run the following cell to reproduce the table and compare it to the one in the claims section."
   ],
   "id": "cf9efd68-ead2-44ad-a1ba-91f503cacec3"
  },
  {
   "cell_type": "code",
   "execution_count": null,
   "metadata": {},
   "outputs": [],
   "source": [
    "# Array to store name of files used to create table\n",
    "runs = {}\n",
    "overall = {}\n",
    "file_names = [] # Add the names if the new files here\n",
    "\n",
    "# Loop over files\n",
    "for name in file_names:\n",
    "    # Read from json file\n",
    "    with open(f\"experiments/{name}.json\", \"r\") as f:\n",
    "        runs = json.load(f)\n",
    "    # Merge dictionary\n",
    "    overall[name] = runs\n",
    "\n",
    "# Create a dataframe with the result to be in a table form\n",
    "df = pd.DataFrame.from_dict(overall).T\n",
    "\n",
    "# Display the dataframe\n",
    "display(df.style.set_properties(**{'text-align': 'center', 'border': '2px solid black', 'padding': '10px',\\\n",
    "                                   'font-size': '15px'}))"
   ],
   "id": "e013bed5-19a0-4bc6-ab52-12f98ba06bde"
  },
  {
   "cell_type": "markdown",
   "metadata": {},
   "source": [
    "------------------------------------------------------------------------"
   ],
   "id": "1c974248-7f4a-4b7f-bc3b-10dbce1c628c"
  },
  {
   "cell_type": "markdown",
   "metadata": {},
   "source": [
    "## Experiment 3:\n",
    "\n",
    "In this experiment we want to verify the claim that states that “The hybrid Vision Transformer can perform better than both baseline and Vision Transformer after fine tuning it to different classification task” by using the available pretrained model as before. The models used by the authors are not available but there other models available that we can use.\n",
    "\n",
    "------------------------------------------------------------------------"
   ],
   "id": "9338878e-9a4b-4d71-8c97-619ecc33e5dc"
  },
  {
   "cell_type": "markdown",
   "metadata": {},
   "source": [
    "The models available for this experiment are all pretrained on the **ImageNet-21k** datasets:\n",
    "\n",
    "-   R50x1+ViT-B/16\n",
    "-   R50x1+ViT-L/32\n",
    "-   R50x1+ViT-L/16\n",
    "\n",
    "We can use any of these model and compare it to the results from the previous experiments to validate the qualitative version of the claim. However, we cannot validata the quantitative results as the models pretrained on the **JFT-300M** dataset are not available.\n",
    "\n",
    "------------------------------------------------------------------------"
   ],
   "id": "0083a36e-359c-4ca3-aa7a-0fc32e07c7ea"
  },
  {
   "cell_type": "markdown",
   "metadata": {},
   "source": [
    "The notebooks used for this experiment:\n",
    "\n",
    "-   [ViT-JAX notebook](): This is the same notebook fromt the previous experiment. We can change the model name by modifying the `model_name` variable in the code. The available models are listed in this [link](https://console.cloud.google.com/storage/browser/vit_models?authuser=0&pageState=(%22StorageObjectListTable%22:(%22f%22:%22%255B%255D%22))&prefix=&forceOnObjectsSortingFiltering=false). The model pretrained on the **ImageNet-21k** only without fine-tuning are available in the `imagenet21k/` folder, while the fine-tuned models on the **ImageNet-1k** are available in the `imagenet21k+imagenet2012/`folder.\n",
    "\n",
    "**Note: We need to be careful when naming the JSON files to avoid overwriting previous results.**\n",
    "\n",
    "------------------------------------------------------------------------"
   ],
   "id": "e08e53ea-c910-4b9e-b33e-4167c5883807"
  },
  {
   "cell_type": "markdown",
   "metadata": {},
   "source": [
    "After finishing the previous part, run the following cell to reproduce the table and compare it to the one in the claims section."
   ],
   "id": "21725d04-b4c6-45ec-b605-1dfab482eff9"
  },
  {
   "cell_type": "code",
   "execution_count": null,
   "metadata": {},
   "outputs": [],
   "source": [
    "# Array to store name of files used to create table\n",
    "runs = {}\n",
    "overall = {}\n",
    "file_names = [] # Add the names of the new files here\n",
    "\n",
    "# Loop over files\n",
    "for name in file_names:\n",
    "    # Read from json file\n",
    "    with open(f\"experiments/{name}.json\", \"r\") as f:\n",
    "        runs = json.load(f)\n",
    "    # Merge dictionary\n",
    "    overall[name] = runs\n",
    "\n",
    "# Create a dataframe with the result to be in a table form\n",
    "df = pd.DataFrame.from_dict(overall).T\n",
    "\n",
    "# Display the dataframe\n",
    "display(df.style.set_properties(**{'text-align': 'center', 'border': '2px solid black', 'padding': '10px',\\\n",
    "                                   'font-size': '15px'}))"
   ],
   "id": "1e1f9b60-151f-42fe-977a-2e587832d3db"
  }
 ],
 "nbformat": 4,
 "nbformat_minor": 5,
 "metadata": {}
}
