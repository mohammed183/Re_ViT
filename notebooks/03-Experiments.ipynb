{
 "cells": [
  {
   "cell_type": "markdown",
   "metadata": {},
   "source": [
    "# Experiments\n",
    "\n",
    "In this section, we will attempt to verify the qualitative and quantitative aspects of each claim. We will indicate which claims cannot be verified due to the lack of the material published by the authors. We will mainly use pretrained models published to verify these claims. Trying to reproduce such results without pretrained models can be very expensive as the computational requirement is huge.\n",
    "\n",
    "------------------------------------------------------------------------"
   ],
   "id": "f81f2395-dc9e-4b29-862c-cab4480972b2"
  },
  {
   "cell_type": "markdown",
   "metadata": {},
   "source": [
    "Before we dive into the experiments, let’s briefly discuss some of the common challenges that we will encounter in each of them. We will elaborate on these challenges later in the corresponding notebooks, but for now, here are some of the main issues that you should be aware of:\n",
    "\n",
    "-   The models are **very large and memory-intensive**, requiring a GPU with at least 16GB of RAM for the ViT models and at least 24GB of RAM for the ResNet models.\n",
    "-   The authors used a **very large batch size (512) and a huge number of steps**, which can be very costly to reproduce.\n",
    "-   The resolutions reported in the paper are **not consistent with the ones provided in the code**.\n",
    "-   The final fine-tuning learning rate for each dataset is **not reported in the paper**, but only the values used for grid search are given.\n",
    "-   The learning rate scheduler used in the authors’ code is **not exactly as described in the paper**.\n",
    "\n",
    "The following is a subset of table 4 from the paper which includes some of the values mentioned above:\n",
    "\n",
    "|      Dataset       | Steps  |          Base LR           |\n",
    "|:------------------:|:------:|:--------------------------:|\n",
    "|      ImageNet      | 20 000 | {0.003, 0.01, 0.03, 0.06}  |\n",
    "|      CIFAR100      | 10 000 | {0.001, 0.003, 0.01, 0.03} |\n",
    "|      CIFAR10       | 10 000 | {0.001, 0.003, 0.01, 0.03} |\n",
    "|  Oxford-IIIT Pets  |  500   | {0.001, 0.003, 0.01, 0.03} |\n",
    "| Oxford Flowers-102 |  500   | {0.001, 0.003, 0.01, 0.03} |\n",
    "\n",
    "------------------------------------------------------------------------"
   ],
   "id": "70f7de2c-5cca-4a9e-ba13-625ba2a3e04f"
  },
  {
   "cell_type": "markdown",
   "metadata": {},
   "source": [
    "Before starting any of the experiments, we need to download the **ImageNet-1k** validation data to be able to verify the results on the **ImageNet-1k** dataset as it is *not available* in `torchvision.datasets`.\n",
    "\n",
    "------------------------------------------------------------------------"
   ],
   "id": "d2601e0f-1bb2-4636-bc30-19f388cf9957"
  },
  {
   "cell_type": "code",
   "execution_count": null,
   "metadata": {},
   "outputs": [],
   "source": [
    "# Download ImageNet-1k validation dataset\n",
    "!gdown 1xAO6pGcJqvTtbwcdlVWlcNSDjLkHZtnA\n",
    "!unzip val.zip"
   ],
   "id": "233bfb83-d7ab-49d8-8276-f2f625d8ce1f"
  },
  {
   "cell_type": "markdown",
   "metadata": {},
   "source": [
    "------------------------------------------------------------------------"
   ],
   "id": "76d8f6f2-bed8-440e-bdde-ebd719376b56"
  },
  {
   "cell_type": "markdown",
   "metadata": {},
   "source": [
    "## Primary Experiment:\n",
    "\n",
    "In this experiment we want to reproduce the claim: *“Vision Transformer outperforms state of the art CNNs on various classification tasks after pretraining on large datasets”* by using the only available pretrained model in the table in that claim and compare it to the other model that are pretrained on the **ImageNet-21k** unlike in the original paper where the other models were pretrained on the **JFT-300M** private dataset.\n",
    "\n",
    "------------------------------------------------------------------------"
   ],
   "id": "c2694dfb-dca4-405b-9022-680cab4d9be8"
  },
  {
   "cell_type": "markdown",
   "metadata": {},
   "source": [
    "This experiment is divided into two notebooks, which you can use to evaluate the model’s performance on a specific dataset by running the corresponding sections in both notebooks. After running these notebooks, you can create the table from the primary claim using the cell below:\n",
    "\n",
    "-   [ResNet notebook](03.1-ResNet.ipynb): This notebook allows us to evaluate the performance of different **ResNet** models on various image classification datasets. The `model name` can be changed to try different models. The models in this notebook used for this experiment are pretrained on the **ImageNet-21k** dataset and are ready for fine-tuning.\n",
    "\n",
    "-   [ViT notebook](03.2-ViT.ipynb): This notebook allows us to evaluate the performance of different **Vision Transformer (ViT)** models on various image classification datasets. The `model name` can be changed to try different models. The models in this notebook are pretrained on the **ImageNet-21k** dataset and are ready for fine-tuning.\n",
    "\n",
    "------------------------------------------------------------------------"
   ],
   "id": "d66f9b30-c450-4506-bb24-ddc308220f2b"
  },
  {
   "cell_type": "markdown",
   "metadata": {},
   "source": [
    "After running both notebooks, now we can reproduce the table using the results stored in `resnet.json` and `vit.json`"
   ],
   "id": "39435d8d-fcdb-4977-b2c7-73276f2cd52b"
  },
  {
   "cell_type": "code",
   "execution_count": null,
   "metadata": {},
   "outputs": [],
   "source": [
    "# Load the data from both json files and create a table with results\n",
    "import pandas as pd\n",
    "import json\n",
    "\n",
    "# Read from json file\n",
    "with open(\"experiments/resnet.json\", \"r\") as f:\n",
    "    resnet = json.load(f)\n",
    "# Read from json file\n",
    "with open(\"experiments/vit.json\", \"r\") as f:\n",
    "    vit = json.load(f)\n",
    "\n",
    "overall={}\n",
    "\n",
    "# Merge resnet and vit dictionaries into one overall dictionary\n",
    "overall['ViT-L/16'] = vit\n",
    "overall['ResNet152x4'] = resnet\n",
    "\n",
    "# Calculate the difference between the results of the two models in the dictionary\n",
    "overall['Differnce'] = {}\n",
    "for key in resnet.keys():\n",
    "    overall['Differnce'][key] = overall['ViT-L/16'][key] - overall['ResNet152x4'][key]\n",
    "\n",
    "# Create a dataframe with the result to be in a table form\n",
    "df = pd.DataFrame.from_dict(overall).T\n",
    "\n",
    "# Display the dataframe\n",
    "display(df.style.set_properties(**{'text-align': 'center', 'border': '2px solid black', 'padding': '10px',\\\n",
    "                                   'font-size': '15px'}))"
   ],
   "id": "6ea67e76-313c-4d5f-82be-d2776d7e9620"
  },
  {
   "cell_type": "markdown",
   "metadata": {},
   "source": [
    "Create a similar table like the one generated by the previous cell for the models pre-trained on the **JFT-300M** dataset using the results from the paper and compare it to our results. Make sure to include a difference row between the two models.\n",
    "\n",
    "**Do you think we were able to verify the qualitative version of the claim? 🤔**\n",
    "\n",
    "------------------------------------------------------------------------"
   ],
   "id": "de4f2cd9-e214-40b5-b960-f79f7a88c1f9"
  },
  {
   "cell_type": "markdown",
   "metadata": {},
   "source": [
    "After running both notebooks, now we can reproduce the table using the results stored in `resnet.json` and `vit.json`"
   ],
   "id": "47784ac9-46e9-4b63-8f69-77a4d854de23"
  },
  {
   "cell_type": "code",
   "execution_count": null,
   "metadata": {},
   "outputs": [],
   "source": [
    "# Load the data from both json files and create a table with results\n",
    "import pandas as pd\n",
    "import json\n",
    "\n",
    "# Read from json file\n",
    "with open(\"experiments/resnet_time.json\", \"r\") as f:\n",
    "    resnet = json.load(f)\n",
    "# Read from json file\n",
    "with open(\"experiments/vit_time.json\", \"r\") as f:\n",
    "    vit = json.load(f)\n",
    "\n",
    "overall={}\n",
    "\n",
    "# Merge resnet and vit dictionaries into one overall dictionary\n",
    "overall['ViT-L/16'] = vit\n",
    "overall['ResNet152x4'] = resnet\n",
    "\n",
    "# Create a dataframe with the result to be in a table form\n",
    "df = pd.DataFrame.from_dict(overall).T\n",
    "\n",
    "# Display the dataframe\n",
    "display(df.style.set_properties(**{'text-align': 'center', 'border': '2px solid black', 'padding': '10px',\\\n",
    "                                   'font-size': '14px'}))"
   ],
   "id": "2acbe2dd-3edb-4d72-ad1c-8478552a2eb3"
  },
  {
   "cell_type": "markdown",
   "metadata": {},
   "source": [
    "**Can you use the information from the table at the beginning of this notebook and the results from the generated table to calculate the time required to perform a grid search on the learning rates, as described in the paper? 🤓**\n",
    "\n",
    "------------------------------------------------------------------------"
   ],
   "id": "635542ac-236c-4158-979d-47a711e1e825"
  },
  {
   "cell_type": "markdown",
   "metadata": {},
   "source": [
    "### Things to try: 🧪\n",
    "\n",
    "We have experimented with some fine-tuning hyperparameters that yielded good results, but there is still room for improvement in the performance of the models. For example, we can explore:\n",
    "\n",
    "-   Using **different learning rates** to determine the sensitivity of the models to this hyperparameter. A learning rate that is too high or too low can affect the convergence and accuracy of the models.\n",
    "\n",
    "-   Trying different **image resolutions** to see if this improves the results.\n",
    "\n",
    "-   Changing the **number of epochs** to determine its impact on the final results. Altering the number of epochs may lead to better results, but it also increases the risk of overfitting or underfitting.\n",
    "\n",
    "-   Checking the **sensitivity of the model to the random seed** by changing it. The random seed can influence the initialization of the weights and the shuffling of the data, and different seeds may result in different outcomes for the same model and dataset.\n",
    "\n",
    "**🛑 Please note that trying these options will take some time. You may want to try them only for the Oxford datasets, which require the least amount of time.**\n",
    "\n",
    "------------------------------------------------------------------------"
   ],
   "id": "77ebbb16-15cf-4db7-b10f-86e271b17537"
  }
 ],
 "nbformat": 4,
 "nbformat_minor": 5,
 "metadata": {}
}
