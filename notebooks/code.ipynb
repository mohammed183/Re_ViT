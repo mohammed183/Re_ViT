{
 "cells": [
  {
   "cell_type": "markdown",
   "metadata": {},
   "source": [
    "# An Image is Worth 16x16 Words: Transformers for Image Recognition at Scale\n",
    "\n",
    "The paper is available on [arXiv](https://arxiv.org/abs/2010.11929). In creating the interactive material for this notebook, we utilized the model checkpoint available on the [repository](https://github.com/google-research/vision_transformer#vision-transformer-and-mlp-mixer-architectures).\n",
    "\n",
    "------------------------------------------------------------------------"
   ],
   "id": "8d447f84-bd2e-4b29-937e-a73b13a61919"
  }
 ],
 "nbformat": 4,
 "nbformat_minor": 5,
 "metadata": {}
}
